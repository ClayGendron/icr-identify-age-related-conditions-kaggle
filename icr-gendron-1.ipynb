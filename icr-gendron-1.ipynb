{
 "cells": [
  {
   "cell_type": "code",
   "execution_count": 1,
   "id": "432cef56",
   "metadata": {
    "execution": {
     "iopub.execute_input": "2023-07-02T00:19:32.406279Z",
     "iopub.status.busy": "2023-07-02T00:19:32.405770Z",
     "iopub.status.idle": "2023-07-02T00:19:32.413314Z",
     "shell.execute_reply": "2023-07-02T00:19:32.411872Z"
    },
    "papermill": {
     "duration": 0.030411,
     "end_time": "2023-07-02T00:19:32.420388",
     "exception": false,
     "start_time": "2023-07-02T00:19:32.389977",
     "status": "completed"
    },
    "tags": []
   },
   "outputs": [],
   "source": [
    "# UNCOMMENT first with internet option turned on\n",
    "# Use GPU env\n",
    "\n",
    "# !pip download tabpfn --no-deps -d pip-packages\n",
    "\n",
    "# from tabpfn import TabPFNClassifier\n",
    "# TabPFNClassifier(N_ensemble_configurations = 64, device = 'cuda:0')\n",
    "\n",
    "# !mv /opt/conda/lib/python3.10/site-packages/tabpfn/models_diff/prior_diff_real_checkpoint_n_0_epoch_100.cpkt pip-packages/\n",
    "# !zip -r pip-packages.zip pip-packages\n",
    "\n",
    "# now you need to download the zip and upload it as dataset with the plus in the top left\n",
    "# then you need to add it to the notebook as data on the right, and name it `pip-packages-icr`\n",
    "\n",
    "# now you can turn internet off and still install, like below"
   ]
  },
  {
   "cell_type": "code",
   "execution_count": 2,
   "id": "904adcba",
   "metadata": {
    "execution": {
     "iopub.execute_input": "2023-07-02T00:19:32.446213Z",
     "iopub.status.busy": "2023-07-02T00:19:32.445818Z",
     "iopub.status.idle": "2023-07-02T00:19:48.156330Z",
     "shell.execute_reply": "2023-07-02T00:19:48.154530Z"
    },
    "papermill": {
     "duration": 15.727067,
     "end_time": "2023-07-02T00:19:48.159297",
     "exception": false,
     "start_time": "2023-07-02T00:19:32.432230",
     "status": "completed"
    },
    "tags": []
   },
   "outputs": [],
   "source": [
    "# !pip install tabpfn --no-index --find-links=file:///kaggle/input/pip-packages-icr/pip-packages"
   ]
  },
  {
   "cell_type": "code",
   "execution_count": 3,
   "id": "754a6f17",
   "metadata": {
    "execution": {
     "iopub.execute_input": "2023-07-02T00:19:48.185123Z",
     "iopub.status.busy": "2023-07-02T00:19:48.184705Z",
     "iopub.status.idle": "2023-07-02T00:19:52.200658Z",
     "shell.execute_reply": "2023-07-02T00:19:52.198919Z"
    },
    "papermill": {
     "duration": 4.03287,
     "end_time": "2023-07-02T00:19:52.203865",
     "exception": false,
     "start_time": "2023-07-02T00:19:48.170995",
     "status": "completed"
    },
    "tags": []
   },
   "outputs": [],
   "source": [
    "# !mkdir -p /opt/conda/lib/python3.10/site-packages/tabpfn/models_diff\n",
    "# !cp /kaggle/input/pip-packages-icr/pip-packages/prior_diff_real_checkpoint_n_0_epoch_100.cpkt /opt/conda/lib/python3.10/site-packages/tabpfn/models_diff/"
   ]
  },
  {
   "cell_type": "code",
   "execution_count": 4,
   "id": "9b6ed41f",
   "metadata": {
    "execution": {
     "iopub.execute_input": "2023-07-02T00:19:52.231068Z",
     "iopub.status.busy": "2023-07-02T00:19:52.229337Z",
     "iopub.status.idle": "2023-07-02T00:19:59.633341Z",
     "shell.execute_reply": "2023-07-02T00:19:59.632047Z"
    },
    "papermill": {
     "duration": 7.42178,
     "end_time": "2023-07-02T00:19:59.637027",
     "exception": false,
     "start_time": "2023-07-02T00:19:52.215247",
     "status": "completed"
    },
    "tags": []
   },
   "outputs": [],
   "source": [
    "import pandas as pd\n",
    "import numpy as np\n",
    "import matplotlib.pyplot as plt\n",
    "import seaborn as sns\n",
    "from pyprojroot import here\n",
    "\n",
    "from sklearn.preprocessing import StandardScaler, LabelEncoder\n",
    "from sklearn.impute import KNNImputer\n",
    "\n",
    "from sklearn.metrics import accuracy_score, roc_auc_score, make_scorer\n",
    "from sklearn.model_selection import GridSearchCV, StratifiedKFold\n",
    "from sklearn.neighbors import KNeighborsClassifier\n",
    "from sklearn.ensemble import ExtraTreesClassifier\n",
    "from sklearn.svm import SVC\n",
    "from tabpfn import TabPFNClassifier\n",
    "from xgboost import XGBClassifier\n",
    "\n",
    "from imblearn.over_sampling import SMOTE, RandomOverSampler\n",
    "\n",
    "import warnings\n",
    "warnings.filterwarnings('ignore')"
   ]
  },
  {
   "attachments": {},
   "cell_type": "markdown",
   "id": "7a9ac510",
   "metadata": {
    "papermill": {
     "duration": 0.01148,
     "end_time": "2023-07-02T00:19:59.660545",
     "exception": false,
     "start_time": "2023-07-02T00:19:59.649065",
     "status": "completed"
    },
    "tags": []
   },
   "source": [
    "### Data Pull"
   ]
  },
  {
   "cell_type": "code",
   "execution_count": 5,
   "id": "ad76a758",
   "metadata": {
    "execution": {
     "iopub.execute_input": "2023-07-02T00:19:59.686195Z",
     "iopub.status.busy": "2023-07-02T00:19:59.685504Z",
     "iopub.status.idle": "2023-07-02T00:19:59.788122Z",
     "shell.execute_reply": "2023-07-02T00:19:59.786815Z"
    },
    "papermill": {
     "duration": 0.118784,
     "end_time": "2023-07-02T00:19:59.791151",
     "exception": false,
     "start_time": "2023-07-02T00:19:59.672367",
     "status": "completed"
    },
    "tags": []
   },
   "outputs": [],
   "source": [
    "# load data\n",
    "local_dir = str(here()) + '/'\n",
    "kaggle_dir = '/kaggle/input/'\n",
    "train_df = pd.read_csv(local_dir + 'icr-identify-age-related-conditions/train.csv')\n",
    "test_df = pd.read_csv(local_dir + 'icr-identify-age-related-conditions/test.csv')\n",
    "greeks_df = pd.read_csv(local_dir + 'icr-identify-age-related-conditions/greeks.csv')\n",
    "\n",
    "# join greeks and add Epsilon\n",
    "train_df = pd.merge(train_df, greeks_df, on = 'Id')\n",
    "train_df = train_df.drop(['Beta', 'Gamma', 'Delta'], axis = 1)\n",
    "train_df['Epsilon'] = train_df['Epsilon'].replace('Unknown', np.nan)\n",
    "\n",
    "# dropping rows with missing values in Epsilon as it helps with class imbalance\n",
    "# if future data does have this column, it will be important to know if it is missing\n",
    "train_df = train_df[train_df['Epsilon'].isna() == False].copy()\n",
    "train_df['Epsilon'] = pd.to_datetime(train_df['Epsilon'])\n",
    "\n",
    "# change epsilon to months since 1-1-2019 when data started to pick up\n",
    "train_df['Months Since 1-1-2019'] = (train_df['Epsilon'] - pd.to_datetime('2019-01-01')).dt.days // 30\n",
    "train_df = train_df.drop('Epsilon', axis = 1)\n",
    "train_df.reset_index(drop = True, inplace = True)"
   ]
  },
  {
   "cell_type": "code",
   "execution_count": 6,
   "id": "dd377d49",
   "metadata": {
    "execution": {
     "iopub.execute_input": "2023-07-02T00:19:59.816083Z",
     "iopub.status.busy": "2023-07-02T00:19:59.815658Z",
     "iopub.status.idle": "2023-07-02T00:19:59.821960Z",
     "shell.execute_reply": "2023-07-02T00:19:59.820629Z"
    },
    "papermill": {
     "duration": 0.021891,
     "end_time": "2023-07-02T00:19:59.824688",
     "exception": false,
     "start_time": "2023-07-02T00:19:59.802797",
     "status": "completed"
    },
    "tags": []
   },
   "outputs": [],
   "source": [
    "# plot styles\n",
    "font_dict_header = {'size': 20, 'weight': 'bold'}\n",
    "font_dict_axistitle = {'size': 14, 'weight': 'bold'}"
   ]
  },
  {
   "attachments": {},
   "cell_type": "markdown",
   "id": "853c5e09",
   "metadata": {
    "papermill": {
     "duration": 0.01108,
     "end_time": "2023-07-02T00:19:59.847271",
     "exception": false,
     "start_time": "2023-07-02T00:19:59.836191",
     "status": "completed"
    },
    "tags": []
   },
   "source": [
    "# Preprocess Data"
   ]
  },
  {
   "cell_type": "code",
   "execution_count": 7,
   "id": "aeca7ae4",
   "metadata": {
    "execution": {
     "iopub.execute_input": "2023-07-02T00:19:59.873628Z",
     "iopub.status.busy": "2023-07-02T00:19:59.873199Z",
     "iopub.status.idle": "2023-07-02T00:19:59.915638Z",
     "shell.execute_reply": "2023-07-02T00:19:59.913976Z"
    },
    "papermill": {
     "duration": 0.061696,
     "end_time": "2023-07-02T00:19:59.920400",
     "exception": false,
     "start_time": "2023-07-02T00:19:59.858704",
     "status": "completed"
    },
    "tags": []
   },
   "outputs": [],
   "source": [
    "# set random seed\n",
    "random_seed = 101010\n",
    "np.random.seed(random_seed)\n",
    "\n",
    "# pre-process data\n",
    "y_alpha = train_df['Alpha']\n",
    "y_class = train_df['Class']\n",
    "x = train_df.drop(['Id', 'Alpha', 'Class'], axis = 1, inplace = False)\n",
    "\n",
    "# create x and y train\n",
    "X_train = x.copy()\n",
    "y_train_alpha = y_alpha.copy()\n",
    "alpha_encoder = LabelEncoder()\n",
    "y_train_alpha = alpha_encoder.fit_transform(y_train_alpha)\n",
    "y_train_class = y_class.copy()\n",
    "\n",
    "# scale and impute data\n",
    "X_train['EJ'].replace({'A': 0, 'B': 1}, inplace = True)\n",
    "X_train_columns = X_train.columns\n",
    "X_train_index = X_train.index\n",
    "standard_scaler = StandardScaler()\n",
    "X_train = standard_scaler.fit_transform(X_train)\n",
    "knn_imputer = KNNImputer()\n",
    "X_train = knn_imputer.fit_transform(X_train)\n",
    "X_train = pd.DataFrame(X_train, columns = X_train_columns, index = X_train_index)"
   ]
  },
  {
   "attachments": {},
   "cell_type": "markdown",
   "id": "effc7738",
   "metadata": {
    "papermill": {
     "duration": 0.024435,
     "end_time": "2023-07-02T00:19:59.969506",
     "exception": false,
     "start_time": "2023-07-02T00:19:59.945071",
     "status": "completed"
    },
    "tags": []
   },
   "source": [
    "# Engineer Features"
   ]
  },
  {
   "attachments": {},
   "cell_type": "markdown",
   "id": "c6be61a9",
   "metadata": {
    "papermill": {
     "duration": 0.025231,
     "end_time": "2023-07-02T00:20:00.021740",
     "exception": false,
     "start_time": "2023-07-02T00:19:59.996509",
     "status": "completed"
    },
    "tags": []
   },
   "source": [
    "### Model Prediction Features\n",
    "KNN, Logistic Regression, SVM, Gradient Boosting, and TabPFN"
   ]
  },
  {
   "cell_type": "code",
   "execution_count": 8,
   "id": "3c7dba27",
   "metadata": {
    "execution": {
     "iopub.execute_input": "2023-07-02T00:20:00.047161Z",
     "iopub.status.busy": "2023-07-02T00:20:00.046732Z",
     "iopub.status.idle": "2023-07-02T00:20:00.055014Z",
     "shell.execute_reply": "2023-07-02T00:20:00.053554Z"
    },
    "papermill": {
     "duration": 0.023925,
     "end_time": "2023-07-02T00:20:00.057676",
     "exception": false,
     "start_time": "2023-07-02T00:20:00.033751",
     "status": "completed"
    },
    "tags": []
   },
   "outputs": [],
   "source": [
    "def fit_model(model_name, model, X_train, y_train, X_test, features):\n",
    "    X = X_train[features].copy()\n",
    "    y = y_train.copy()\n",
    "    test = X_test[features].copy()\n",
    "    \n",
    "    model.fit(X, y)\n",
    "    model_predictions = model.predict_proba(test)\n",
    "    predictions_df = pd.DataFrame(model_predictions, columns = model.classes_, index=X_test.index)\n",
    "    predictions_df.columns = [model_name + '_' + str(col) for col in predictions_df.columns]\n",
    "    \n",
    "    return predictions_df"
   ]
  },
  {
   "cell_type": "code",
   "execution_count": 9,
   "id": "c90ece0c",
   "metadata": {
    "execution": {
     "iopub.execute_input": "2023-07-02T00:20:00.083294Z",
     "iopub.status.busy": "2023-07-02T00:20:00.082791Z",
     "iopub.status.idle": "2023-07-02T00:21:55.513449Z",
     "shell.execute_reply": "2023-07-02T00:21:55.512052Z"
    },
    "papermill": {
     "duration": 115.447119,
     "end_time": "2023-07-02T00:21:55.516569",
     "exception": false,
     "start_time": "2023-07-02T00:20:00.069450",
     "status": "completed"
    },
    "tags": []
   },
   "outputs": [
    {
     "name": "stdout",
     "output_type": "stream",
     "text": [
      "Loading model that can be used for inference only\n",
      "Using a Transformer with 25.82 M parameters\n",
      "Loading model that can be used for inference only\n",
      "Using a Transformer with 25.82 M parameters\n",
      "Loading model that can be used for inference only\n",
      "Using a Transformer with 25.82 M parameters\n",
      "Loading model that can be used for inference only\n",
      "Using a Transformer with 25.82 M parameters\n",
      "Loading model that can be used for inference only\n",
      "Using a Transformer with 25.82 M parameters\n"
     ]
    }
   ],
   "source": [
    "skf = StratifiedKFold(n_splits = 5, random_state = random_seed, shuffle = True)\n",
    "model_prediction_features_df = pd.DataFrame({})\n",
    "for i, (train_index, test_index) in enumerate(skf.split(X_train, y_train_alpha)):\n",
    "    fold, oof = X_train.loc[train_index], X_train.loc[test_index]\n",
    "    fold_y, oof_y = y_train_alpha[train_index], y_train_alpha[test_index]\n",
    "    \n",
    "    model_features = [\n",
    "        'DU', 'CR', 'AB', 'DA', 'DH', 'BC', 'FR', 'EP', 'DI', 'FL', 'EU', 'EH', 'Months Since 1-1-2019'\n",
    "    ]\n",
    "    \n",
    "    # KNN\n",
    "    knn_features = model_features[0:3]\n",
    "    knn_features.append(model_features[-1])\n",
    "    knn = KNeighborsClassifier(n_neighbors = 7)\n",
    "    knn_predictions = fit_model('KNN 7', knn, fold, fold_y, oof, knn_features)\n",
    "    \n",
    "    # Extra Trees\n",
    "    extra_trees = ExtraTreesClassifier(n_estimators = 250, random_state = random_seed)\n",
    "    extra_trees_predictions = fit_model('Extra Trees', extra_trees, fold, fold_y, oof, model_features)\n",
    "    \n",
    "    # TabPFN\n",
    "    tabpfn = TabPFNClassifier(N_ensemble_configurations = 64, seed = random_seed)\n",
    "    tabpfn_predictions = fit_model('TabPFN', tabpfn, fold, fold_y, oof, model_features)\n",
    "    \n",
    "    predictions_df = pd.concat([knn_predictions, extra_trees_predictions, tabpfn_predictions], axis = 1)\n",
    "    model_prediction_features_df = pd.concat([model_prediction_features_df, predictions_df])"
   ]
  },
  {
   "cell_type": "code",
   "execution_count": 10,
   "id": "5b4589a3",
   "metadata": {
    "execution": {
     "iopub.execute_input": "2023-07-02T00:21:55.543327Z",
     "iopub.status.busy": "2023-07-02T00:21:55.542856Z",
     "iopub.status.idle": "2023-07-02T00:21:56.090335Z",
     "shell.execute_reply": "2023-07-02T00:21:56.088818Z"
    },
    "papermill": {
     "duration": 0.564322,
     "end_time": "2023-07-02T00:21:56.093297",
     "exception": false,
     "start_time": "2023-07-02T00:21:55.528975",
     "status": "completed"
    },
    "tags": []
   },
   "outputs": [],
   "source": [
    "pre_fit_models = {\n",
    "    'KNN 7': knn.fit(X_train[knn_features], y_train_alpha),\n",
    "    'Extra Trees': extra_trees.fit(X_train[model_features], y_train_alpha),\n",
    "    'TabPFN': tabpfn.fit(X_train[model_features], y_train_alpha)\n",
    "}\n",
    "\n",
    "X_train = pd.concat([X_train, model_prediction_features_df], axis = 1)"
   ]
  },
  {
   "cell_type": "code",
   "execution_count": 11,
   "id": "5dac86e6",
   "metadata": {
    "execution": {
     "iopub.execute_input": "2023-07-02T00:21:56.121725Z",
     "iopub.status.busy": "2023-07-02T00:21:56.121224Z",
     "iopub.status.idle": "2023-07-02T00:21:56.293144Z",
     "shell.execute_reply": "2023-07-02T00:21:56.291687Z"
    },
    "papermill": {
     "duration": 0.189829,
     "end_time": "2023-07-02T00:21:56.296505",
     "exception": false,
     "start_time": "2023-07-02T00:21:56.106676",
     "status": "completed"
    },
    "tags": []
   },
   "outputs": [],
   "source": [
    "for pred_class in y_train_alpha:\n",
    "    X_train['Alpha_' + str(pred_class)] = X_train['Extra Trees_' + str(pred_class)] + X_train['TabPFN_' + str(pred_class)]"
   ]
  },
  {
   "cell_type": "code",
   "execution_count": 12,
   "id": "9357f8ee",
   "metadata": {
    "execution": {
     "iopub.execute_input": "2023-07-02T00:21:56.322977Z",
     "iopub.status.busy": "2023-07-02T00:21:56.322576Z",
     "iopub.status.idle": "2023-07-02T00:21:56.329012Z",
     "shell.execute_reply": "2023-07-02T00:21:56.327431Z"
    },
    "papermill": {
     "duration": 0.023094,
     "end_time": "2023-07-02T00:21:56.332111",
     "exception": false,
     "start_time": "2023-07-02T00:21:56.309017",
     "status": "completed"
    },
    "tags": []
   },
   "outputs": [
    {
     "name": "stdout",
     "output_type": "stream",
     "text": [
      "Shape of X: (473, 73)\n",
      "Shape of y: (473,)\n"
     ]
    }
   ],
   "source": [
    "print('Shape of X:', X_train.shape)\n",
    "print('Shape of y:', y_train_alpha.shape)"
   ]
  },
  {
   "cell_type": "code",
   "execution_count": 13,
   "id": "258fa5dc",
   "metadata": {
    "execution": {
     "iopub.execute_input": "2023-07-02T00:21:56.358289Z",
     "iopub.status.busy": "2023-07-02T00:21:56.357888Z",
     "iopub.status.idle": "2023-07-02T00:21:56.363414Z",
     "shell.execute_reply": "2023-07-02T00:21:56.361916Z"
    },
    "papermill": {
     "duration": 0.021627,
     "end_time": "2023-07-02T00:21:56.365900",
     "exception": false,
     "start_time": "2023-07-02T00:21:56.344273",
     "status": "completed"
    },
    "tags": []
   },
   "outputs": [],
   "source": [
    "# print('Shape of X:', X_test.shape)\n",
    "# print('Shape of y:', y_test.shape)"
   ]
  },
  {
   "attachments": {},
   "cell_type": "markdown",
   "id": "cb7af571",
   "metadata": {
    "papermill": {
     "duration": 0.011867,
     "end_time": "2023-07-02T00:21:56.390396",
     "exception": false,
     "start_time": "2023-07-02T00:21:56.378529",
     "status": "completed"
    },
    "tags": []
   },
   "source": [
    "# Modeling"
   ]
  },
  {
   "cell_type": "code",
   "execution_count": 17,
   "id": "a2655c49",
   "metadata": {
    "execution": {
     "iopub.execute_input": "2023-07-02T00:21:56.417332Z",
     "iopub.status.busy": "2023-07-02T00:21:56.416923Z",
     "iopub.status.idle": "2023-07-02T00:21:56.426174Z",
     "shell.execute_reply": "2023-07-02T00:21:56.424501Z"
    },
    "papermill": {
     "duration": 0.025937,
     "end_time": "2023-07-02T00:21:56.429095",
     "exception": false,
     "start_time": "2023-07-02T00:21:56.403158",
     "status": "completed"
    },
    "tags": []
   },
   "outputs": [],
   "source": [
    "def competition_log_loss(y_true, y_pred):\n",
    "    # calculate the predictin probability, clip it to avoid log(0) and calculate the log loss\n",
    "    proba_1 = np.clip(y_pred, 1e-15, 1 - 1e-15)\n",
    "    proba_0 = 1 - proba_1\n",
    "    \n",
    "    # count each class\n",
    "    class_0 = np.sum(1 - y_true)\n",
    "    class_1 = np.sum(y_true)\n",
    "\n",
    "    # log loss for each class\n",
    "    log_loss_0 = -np.sum((1 - y_true) * np.log(proba_0)) / class_0\n",
    "    log_loss_1 = -np.sum(y_true * np.log(proba_1)) / class_1\n",
    "    \n",
    "    # return average log loss\n",
    "    return (log_loss_0 + log_loss_1)/2\n",
    "\n",
    "# make scorer for sklearn GridSearchCV\n",
    "balanced_log_loss_scorer = make_scorer(competition_log_loss, greater_is_better = False, needs_proba = True)"
   ]
  },
  {
   "attachments": {},
   "cell_type": "markdown",
   "id": "5bc84fde",
   "metadata": {
    "papermill": {
     "duration": 0.012192,
     "end_time": "2023-07-02T00:21:56.453990",
     "exception": false,
     "start_time": "2023-07-02T00:21:56.441798",
     "status": "completed"
    },
    "tags": []
   },
   "source": [
    "### XGBoost"
   ]
  },
  {
   "cell_type": "code",
   "execution_count": 18,
   "id": "18495982",
   "metadata": {
    "execution": {
     "iopub.execute_input": "2023-07-02T00:21:56.481040Z",
     "iopub.status.busy": "2023-07-02T00:21:56.480620Z",
     "iopub.status.idle": "2023-07-02T00:22:00.274143Z",
     "shell.execute_reply": "2023-07-02T00:22:00.273070Z"
    },
    "papermill": {
     "duration": 3.809872,
     "end_time": "2023-07-02T00:22:00.276748",
     "exception": false,
     "start_time": "2023-07-02T00:21:56.466876",
     "status": "completed"
    },
    "tags": []
   },
   "outputs": [
    {
     "data": {
      "text/html": [
       "<style>#sk-container-id-1 {color: black;}#sk-container-id-1 pre{padding: 0;}#sk-container-id-1 div.sk-toggleable {background-color: white;}#sk-container-id-1 label.sk-toggleable__label {cursor: pointer;display: block;width: 100%;margin-bottom: 0;padding: 0.3em;box-sizing: border-box;text-align: center;}#sk-container-id-1 label.sk-toggleable__label-arrow:before {content: \"▸\";float: left;margin-right: 0.25em;color: #696969;}#sk-container-id-1 label.sk-toggleable__label-arrow:hover:before {color: black;}#sk-container-id-1 div.sk-estimator:hover label.sk-toggleable__label-arrow:before {color: black;}#sk-container-id-1 div.sk-toggleable__content {max-height: 0;max-width: 0;overflow: hidden;text-align: left;background-color: #f0f8ff;}#sk-container-id-1 div.sk-toggleable__content pre {margin: 0.2em;color: black;border-radius: 0.25em;background-color: #f0f8ff;}#sk-container-id-1 input.sk-toggleable__control:checked~div.sk-toggleable__content {max-height: 200px;max-width: 100%;overflow: auto;}#sk-container-id-1 input.sk-toggleable__control:checked~label.sk-toggleable__label-arrow:before {content: \"▾\";}#sk-container-id-1 div.sk-estimator input.sk-toggleable__control:checked~label.sk-toggleable__label {background-color: #d4ebff;}#sk-container-id-1 div.sk-label input.sk-toggleable__control:checked~label.sk-toggleable__label {background-color: #d4ebff;}#sk-container-id-1 input.sk-hidden--visually {border: 0;clip: rect(1px 1px 1px 1px);clip: rect(1px, 1px, 1px, 1px);height: 1px;margin: -1px;overflow: hidden;padding: 0;position: absolute;width: 1px;}#sk-container-id-1 div.sk-estimator {font-family: monospace;background-color: #f0f8ff;border: 1px dotted black;border-radius: 0.25em;box-sizing: border-box;margin-bottom: 0.5em;}#sk-container-id-1 div.sk-estimator:hover {background-color: #d4ebff;}#sk-container-id-1 div.sk-parallel-item::after {content: \"\";width: 100%;border-bottom: 1px solid gray;flex-grow: 1;}#sk-container-id-1 div.sk-label:hover label.sk-toggleable__label {background-color: #d4ebff;}#sk-container-id-1 div.sk-serial::before {content: \"\";position: absolute;border-left: 1px solid gray;box-sizing: border-box;top: 0;bottom: 0;left: 50%;z-index: 0;}#sk-container-id-1 div.sk-serial {display: flex;flex-direction: column;align-items: center;background-color: white;padding-right: 0.2em;padding-left: 0.2em;position: relative;}#sk-container-id-1 div.sk-item {position: relative;z-index: 1;}#sk-container-id-1 div.sk-parallel {display: flex;align-items: stretch;justify-content: center;background-color: white;position: relative;}#sk-container-id-1 div.sk-item::before, #sk-container-id-1 div.sk-parallel-item::before {content: \"\";position: absolute;border-left: 1px solid gray;box-sizing: border-box;top: 0;bottom: 0;left: 50%;z-index: -1;}#sk-container-id-1 div.sk-parallel-item {display: flex;flex-direction: column;z-index: 1;position: relative;background-color: white;}#sk-container-id-1 div.sk-parallel-item:first-child::after {align-self: flex-end;width: 50%;}#sk-container-id-1 div.sk-parallel-item:last-child::after {align-self: flex-start;width: 50%;}#sk-container-id-1 div.sk-parallel-item:only-child::after {width: 0;}#sk-container-id-1 div.sk-dashed-wrapped {border: 1px dashed gray;margin: 0 0.4em 0.5em 0.4em;box-sizing: border-box;padding-bottom: 0.4em;background-color: white;}#sk-container-id-1 div.sk-label label {font-family: monospace;font-weight: bold;display: inline-block;line-height: 1.2em;}#sk-container-id-1 div.sk-label-container {text-align: center;}#sk-container-id-1 div.sk-container {/* jupyter's `normalize.less` sets `[hidden] { display: none; }` but bootstrap.min.css set `[hidden] { display: none !important; }` so we also need the `!important` here to be able to override the default hidden behavior on the sphinx rendered scikit-learn.org. See: https://github.com/scikit-learn/scikit-learn/issues/21755 */display: inline-block !important;position: relative;}#sk-container-id-1 div.sk-text-repr-fallback {display: none;}</style><div id=\"sk-container-id-1\" class=\"sk-top-container\"><div class=\"sk-text-repr-fallback\"><pre>XGBClassifier(base_score=0.85, booster=&#x27;gbtree&#x27;, callbacks=None,\n",
       "              colsample_bylevel=1, colsample_bynode=1, colsample_bytree=1,\n",
       "              early_stopping_rounds=None, enable_categorical=False,\n",
       "              eval_metric=None, gamma=0.3, gpu_id=-1, grow_policy=&#x27;depthwise&#x27;,\n",
       "              importance_type=None, interaction_constraints=&#x27;&#x27;,\n",
       "              learning_rate=0.02, max_bin=256, max_cat_to_onehot=4,\n",
       "              max_delta_step=1, max_depth=6, max_leaves=0, min_child_weight=2,\n",
       "              missing=nan, monotone_constraints=&#x27;()&#x27;, n_estimators=300,\n",
       "              n_jobs=-1, num_parallel_tree=1, predictor=&#x27;auto&#x27;,\n",
       "              random_state=101010, reg_alpha=0, reg_lambda=1, ...)</pre><b>In a Jupyter environment, please rerun this cell to show the HTML representation or trust the notebook. <br />On GitHub, the HTML representation is unable to render, please try loading this page with nbviewer.org.</b></div><div class=\"sk-container\" hidden><div class=\"sk-item\"><div class=\"sk-estimator sk-toggleable\"><input class=\"sk-toggleable__control sk-hidden--visually\" id=\"sk-estimator-id-1\" type=\"checkbox\" checked><label for=\"sk-estimator-id-1\" class=\"sk-toggleable__label sk-toggleable__label-arrow\">XGBClassifier</label><div class=\"sk-toggleable__content\"><pre>XGBClassifier(base_score=0.85, booster=&#x27;gbtree&#x27;, callbacks=None,\n",
       "              colsample_bylevel=1, colsample_bynode=1, colsample_bytree=1,\n",
       "              early_stopping_rounds=None, enable_categorical=False,\n",
       "              eval_metric=None, gamma=0.3, gpu_id=-1, grow_policy=&#x27;depthwise&#x27;,\n",
       "              importance_type=None, interaction_constraints=&#x27;&#x27;,\n",
       "              learning_rate=0.02, max_bin=256, max_cat_to_onehot=4,\n",
       "              max_delta_step=1, max_depth=6, max_leaves=0, min_child_weight=2,\n",
       "              missing=nan, monotone_constraints=&#x27;()&#x27;, n_estimators=300,\n",
       "              n_jobs=-1, num_parallel_tree=1, predictor=&#x27;auto&#x27;,\n",
       "              random_state=101010, reg_alpha=0, reg_lambda=1, ...)</pre></div></div></div></div></div>"
      ],
      "text/plain": [
       "XGBClassifier(base_score=0.85, booster='gbtree', callbacks=None,\n",
       "              colsample_bylevel=1, colsample_bynode=1, colsample_bytree=1,\n",
       "              early_stopping_rounds=None, enable_categorical=False,\n",
       "              eval_metric=None, gamma=0.3, gpu_id=-1, grow_policy='depthwise',\n",
       "              importance_type=None, interaction_constraints='',\n",
       "              learning_rate=0.02, max_bin=256, max_cat_to_onehot=4,\n",
       "              max_delta_step=1, max_depth=6, max_leaves=0, min_child_weight=2,\n",
       "              missing=nan, monotone_constraints='()', n_estimators=300,\n",
       "              n_jobs=-1, num_parallel_tree=1, predictor='auto',\n",
       "              random_state=101010, reg_alpha=0, reg_lambda=1, ...)"
      ]
     },
     "execution_count": 18,
     "metadata": {},
     "output_type": "execute_result"
    }
   ],
   "source": [
    "xgb = XGBClassifier(random_state = random_seed)\n",
    "\n",
    "parameters = {\n",
    "    'booster': ['gbtree'],\n",
    "    'learning_rate': [0.02],\n",
    "    'n_estimators': [300],\n",
    "    'max_depth': [6],\n",
    "    'gamma': [0.3],\n",
    "    'min_child_weight': [2],\n",
    "    'max_delta_step': [1],\n",
    "    'subsample': [0.7],\n",
    "    'base_score': [0.85],\n",
    "    'n_jobs': [-1],\n",
    "}\n",
    "\n",
    "grid_obj = GridSearchCV(xgb, parameters, scoring = balanced_log_loss_scorer, cv = 5)\n",
    "grid_obj = grid_obj.fit(X_train, y_train_class)\n",
    "xgb = grid_obj.best_estimator_\n",
    "xgb.fit(X_train, y_train_class)"
   ]
  },
  {
   "cell_type": "code",
   "execution_count": 19,
   "id": "c514ba72",
   "metadata": {
    "execution": {
     "iopub.execute_input": "2023-07-02T00:22:00.305132Z",
     "iopub.status.busy": "2023-07-02T00:22:00.304674Z",
     "iopub.status.idle": "2023-07-02T00:22:00.317522Z",
     "shell.execute_reply": "2023-07-02T00:22:00.316223Z"
    },
    "papermill": {
     "duration": 0.030663,
     "end_time": "2023-07-02T00:22:00.320281",
     "exception": false,
     "start_time": "2023-07-02T00:22:00.289618",
     "status": "completed"
    },
    "tags": []
   },
   "outputs": [
    {
     "name": "stdout",
     "output_type": "stream",
     "text": [
      "Balanced Log Loss: 0.2172\n"
     ]
    }
   ],
   "source": [
    "# view results of grid search\n",
    "xgb_results = pd.DataFrame(grid_obj.cv_results_)\n",
    "xgb_results.sort_values('rank_test_score')\n",
    "# print results of roc auc score\n",
    "print('Balanced Log Loss:', np.round(xgb_results['mean_test_score'].max() * -1, 4))"
   ]
  },
  {
   "cell_type": "code",
   "execution_count": 36,
   "id": "6af5945b",
   "metadata": {},
   "outputs": [
    {
     "name": "stdout",
     "output_type": "stream",
     "text": [
      "0.2857142857142857\n",
      "0.36\n",
      "0.33311301469802856\n",
      "0.20661779\n"
     ]
    }
   ],
   "source": [
    "value = 83\n",
    "\n",
    "print(1 - X_train['KNN 7_0'][value])\n",
    "print(1 - X_train['Extra Trees_0'][value])\n",
    "print(1 - X_train['TabPFN_0'][value])\n",
    "print(y_train_pred[value])"
   ]
  },
  {
   "cell_type": "code",
   "execution_count": null,
   "id": "123826ca",
   "metadata": {},
   "outputs": [],
   "source": []
  },
  {
   "cell_type": "code",
   "execution_count": 20,
   "id": "f41f045a",
   "metadata": {
    "execution": {
     "iopub.execute_input": "2023-07-02T00:22:00.350407Z",
     "iopub.status.busy": "2023-07-02T00:22:00.349428Z",
     "iopub.status.idle": "2023-07-02T00:22:00.905524Z",
     "shell.execute_reply": "2023-07-02T00:22:00.904214Z"
    },
    "papermill": {
     "duration": 0.573935,
     "end_time": "2023-07-02T00:22:00.908701",
     "exception": false,
     "start_time": "2023-07-02T00:22:00.334766",
     "status": "completed"
    },
    "tags": []
   },
   "outputs": [
    {
     "data": {
      "image/png": "[encoded data removed]",
      "text/plain": [
       "<Figure size 720x576 with 1 Axes>"
      ]
     },
     "metadata": {
      "needs_background": "light"
     },
     "output_type": "display_data"
    }
   ],
   "source": [
    "# histogram of y_train_pred\n",
    "y_train_pred = xgb.predict_proba(X_train)[:,1]\n",
    "\n",
    "plt.figure(figsize = (10, 8))\n",
    "plt.title('Predictions', fontdict = font_dict_header)\n",
    "sns.histplot(y_train_pred, bins = 100, kde = False)\n",
    "plt.box(False)\n",
    "plt.xlabel('Predict Proba Class 1', fontdict = font_dict_axistitle)\n",
    "plt.ylabel('Count', fontdict = font_dict_axistitle)\n",
    "plt.box(False)\n",
    "plt.show()"
   ]
  },
  {
   "cell_type": "code",
   "execution_count": 18,
   "id": "000aa3d9",
   "metadata": {
    "execution": {
     "iopub.execute_input": "2023-07-02T00:22:00.941592Z",
     "iopub.status.busy": "2023-07-02T00:22:00.941152Z",
     "iopub.status.idle": "2023-07-02T00:22:01.989814Z",
     "shell.execute_reply": "2023-07-02T00:22:01.988274Z"
    },
    "papermill": {
     "duration": 1.070934,
     "end_time": "2023-07-02T00:22:01.994708",
     "exception": false,
     "start_time": "2023-07-02T00:22:00.923774",
     "status": "completed"
    },
    "tags": []
   },
   "outputs": [
    {
     "data": {
      "image/png": "[encoded data removed]",
      "text/plain": [
       "<Figure size 1000x2000 with 1 Axes>"
      ]
     },
     "metadata": {},
     "output_type": "display_data"
    }
   ],
   "source": [
    "# plot feature importances\n",
    "importances = pd.Series(xgb.feature_importances_, index = X_train.columns).sort_values(ascending = True)\n",
    "\n",
    "plt.figure(figsize = (10, 20))\n",
    "plt.title('Feature Importances', fontdict = font_dict_header)\n",
    "plt.box(False)\n",
    "plt.barh(importances.index, importances.values)\n",
    "plt.xlabel('Importance Score', fontdict = font_dict_axistitle)\n",
    "plt.ylabel('Features', fontdict = font_dict_axistitle)\n",
    "plt.show()"
   ]
  },
  {
   "attachments": {},
   "cell_type": "markdown",
   "id": "9d48f083",
   "metadata": {
    "papermill": {
     "duration": 0.022076,
     "end_time": "2023-07-02T00:22:02.039096",
     "exception": false,
     "start_time": "2023-07-02T00:22:02.017020",
     "status": "completed"
    },
    "tags": []
   },
   "source": [
    "### Test Sampling Strategies"
   ]
  },
  {
   "cell_type": "code",
   "execution_count": 19,
   "id": "c2e41636",
   "metadata": {
    "execution": {
     "iopub.execute_input": "2023-07-02T00:22:02.077456Z",
     "iopub.status.busy": "2023-07-02T00:22:02.075574Z",
     "iopub.status.idle": "2023-07-02T00:22:02.109299Z",
     "shell.execute_reply": "2023-07-02T00:22:02.107177Z"
    },
    "papermill": {
     "duration": 0.054801,
     "end_time": "2023-07-02T00:22:02.112371",
     "exception": false,
     "start_time": "2023-07-02T00:22:02.057570",
     "status": "completed"
    },
    "tags": []
   },
   "outputs": [],
   "source": [
    "def model_cross_validation(X, y, models, model_names, n_splits = 5):\n",
    "    skf = StratifiedKFold(n_splits = n_splits, random_state = random_seed, shuffle = True)\n",
    "    \n",
    "    # create dataframe to hold results\n",
    "    results_df = pd.DataFrame(columns = ['Model', 'Fold', 'Accuracy', 'ROC AUC', 'Log Loss'])\n",
    "    \n",
    "    for sampling_strategy in ['SMOTE']:\n",
    "        print('----------------------------------')\n",
    "        for i, (train_index, test_index) in enumerate(skf.split(X, y)):\n",
    "            X_train, X_test = X.loc[train_index], X.loc[test_index]\n",
    "            y_train, y_test = y[train_index], y[test_index]\n",
    "        \n",
    "            if sampling_strategy == 'SMOTE':\n",
    "                X_train, y_train = SMOTE(random_state = random_seed).fit_resample(X_train, y_train)\n",
    "            elif sampling_strategy == 'RandomOverSampler':\n",
    "                X_train, y_train = RandomOverSampler(random_state = random_seed).fit_resample(X_train, y_train)\n",
    "            else:\n",
    "                pass\n",
    "            \n",
    "            model_predictions = {}\n",
    "            for model, model_name in zip(models, model_names):\n",
    "                if sampling_strategy == 'None':\n",
    "                    model_name = model_name\n",
    "                else:\n",
    "                    model_name = model_name + ' with ' + sampling_strategy\n",
    "                \n",
    "                print(model_name, 'Fold', i + 1)\n",
    "                if str.startswith(model_name, 'TabPFN'):\n",
    "                    model.fit(X_train[X_train_columns[:-16]], y_train)\n",
    "                    y_pred = model.predict(X_test[X_train_columns[:-16]])\n",
    "                    \n",
    "                    y_proba = model.predict_proba(X_test[X_train_columns[:-16]])\n",
    "                    y_proba_class_0 = y_proba[:,0].sum()\n",
    "                    y_proba_class_1 = y_proba[:,1].sum()\n",
    "                    new_probabilities = y_proba * np.array([[1/(y_proba_class_0 if i==0 else y_proba_class_1) for i in range(y_proba.shape[1])]])\n",
    "                    y_proba = new_probabilities / np.sum(new_probabilities, axis = 1, keepdims = 1)\n",
    "                    \n",
    "                    y_proba = y_proba[:, 1]\n",
    "                else:\n",
    "                    model.fit(X_train, y_train)\n",
    "                    y_pred = model.predict(X_test)\n",
    "                    \n",
    "                    y_proba = model.predict_proba(X_test)\n",
    "                    y_proba_class_0 = y_proba[:,0].sum()\n",
    "                    y_proba_class_1 = y_proba[:,1].sum()\n",
    "                    new_probabilities = y_proba * np.array([[1/(y_proba_class_0 if i==0 else y_proba_class_1) for i in range(y_proba.shape[1])]])\n",
    "                    y_proba = new_probabilities / np.sum(new_probabilities, axis = 1, keepdims = 1)\n",
    "                    \n",
    "                    y_proba = y_proba[:, 1]\n",
    "                \n",
    "                fold_accuracy = accuracy_score(y_test, y_pred)\n",
    "                fold_roc_auc = roc_auc_score(y_test, y_proba)\n",
    "                fold_log_loss = competition_log_loss(y_test, y_proba)\n",
    "                \n",
    "                new_result_index = len(results_df)\n",
    "                new_results_row = pd.DataFrame({\n",
    "                    'Model': model_name, \n",
    "                    'Fold': i + 1, \n",
    "                    'Accuracy': fold_accuracy, \n",
    "                    'ROC AUC': fold_roc_auc,\n",
    "                    'Log Loss': fold_log_loss\n",
    "                }, index = [new_result_index])\n",
    "                \n",
    "                results_df = pd.concat([results_df, new_results_row])\n",
    "                model_predictions[str(model_name) + '_proba'] = y_proba.tolist()\n",
    "                \n",
    "            # average predictions\n",
    "            if sampling_strategy == 'None':\n",
    "                model_name = 'Average'\n",
    "            else:\n",
    "                model_name = 'Average' + ' with ' + sampling_strategy\n",
    "            \n",
    "            \n",
    "            weighted_proba = []\n",
    "            for prediction in model_predictions:\n",
    "                if str.startswith(prediction, 'XGBoost'):\n",
    "                    weighted_proba.append(np.array(model_predictions[prediction]) * 0.4)\n",
    "                elif str.startswith(prediction, 'Extra Trees'):\n",
    "                    weighted_proba.append(np.array(model_predictions[prediction]) * 0.2)\n",
    "                elif str.startswith(prediction, 'SVM'):\n",
    "                    weighted_proba.append(np.array(model_predictions[prediction]) * 0.4)\n",
    "                else:\n",
    "                    weighted_proba.append(np.array(model_predictions[prediction]) * 0)\n",
    "            \n",
    "            y_proba = np.sum(weighted_proba, axis = 0)\n",
    "            y_pred = np.where(y_proba > 0.5, 1, 0)\n",
    "            fold_accuracy = accuracy_score(y_test, y_pred)\n",
    "            fold_roc_auc = roc_auc_score(y_test, y_proba)\n",
    "            fold_log_loss = competition_log_loss(y_test, y_proba)\n",
    "            \n",
    "            new_result_index = len(results_df)\n",
    "            new_results_row = pd.DataFrame({\n",
    "                'Model': model_name, \n",
    "                'Fold': i + 1, \n",
    "                'Accuracy': fold_accuracy, \n",
    "                'ROC AUC': fold_roc_auc,\n",
    "                'Log Loss': fold_log_loss\n",
    "            }, index = [new_result_index])\n",
    "            \n",
    "            results_df = pd.concat([results_df, new_results_row])\n",
    "        \n",
    "    return results_df"
   ]
  },
  {
   "cell_type": "code",
   "execution_count": 20,
   "id": "5b2201c2",
   "metadata": {
    "execution": {
     "iopub.execute_input": "2023-07-02T00:22:02.150898Z",
     "iopub.status.busy": "2023-07-02T00:22:02.149547Z",
     "iopub.status.idle": "2023-07-02T00:22:02.157602Z",
     "shell.execute_reply": "2023-07-02T00:22:02.155929Z"
    },
    "papermill": {
     "duration": 0.029527,
     "end_time": "2023-07-02T00:22:02.160708",
     "exception": false,
     "start_time": "2023-07-02T00:22:02.131181",
     "status": "completed"
    },
    "tags": []
   },
   "outputs": [],
   "source": [
    "xtree = ExtraTreesClassifier(n_estimators = 250, random_state = random_seed)\n",
    "svm = SVC(probability = True, random_state = random_seed)\n",
    "models = [xgb, xtree, svm]\n",
    "model_names = ['XGBoost', 'Extra Trees', 'SVM']"
   ]
  },
  {
   "cell_type": "code",
   "execution_count": 21,
   "id": "ac3c0413",
   "metadata": {
    "execution": {
     "iopub.execute_input": "2023-07-02T00:22:02.198976Z",
     "iopub.status.busy": "2023-07-02T00:22:02.197259Z",
     "iopub.status.idle": "2023-07-02T00:22:10.263740Z",
     "shell.execute_reply": "2023-07-02T00:22:10.262379Z"
    },
    "papermill": {
     "duration": 8.08688,
     "end_time": "2023-07-02T00:22:10.266561",
     "exception": false,
     "start_time": "2023-07-02T00:22:02.179681",
     "status": "completed"
    },
    "tags": []
   },
   "outputs": [
    {
     "name": "stdout",
     "output_type": "stream",
     "text": [
      "----------------------------------\n",
      "XGBoost with SMOTE Fold 1\n",
      "Extra Trees with SMOTE Fold 1\n",
      "SVM with SMOTE Fold 1\n",
      "XGBoost with SMOTE Fold 2\n",
      "Extra Trees with SMOTE Fold 2\n",
      "SVM with SMOTE Fold 2\n",
      "XGBoost with SMOTE Fold 3\n",
      "Extra Trees with SMOTE Fold 3\n",
      "SVM with SMOTE Fold 3\n",
      "XGBoost with SMOTE Fold 4\n",
      "Extra Trees with SMOTE Fold 4\n",
      "SVM with SMOTE Fold 4\n",
      "XGBoost with SMOTE Fold 5\n",
      "Extra Trees with SMOTE Fold 5\n",
      "SVM with SMOTE Fold 5\n"
     ]
    }
   ],
   "source": [
    "cv_results = model_cross_validation(X_train, y_train_class, models, model_names)"
   ]
  },
  {
   "cell_type": "code",
   "execution_count": 22,
   "id": "37c4affb",
   "metadata": {
    "execution": {
     "iopub.execute_input": "2023-07-02T00:22:10.300106Z",
     "iopub.status.busy": "2023-07-02T00:22:10.299674Z",
     "iopub.status.idle": "2023-07-02T00:22:10.348186Z",
     "shell.execute_reply": "2023-07-02T00:22:10.346686Z"
    },
    "papermill": {
     "duration": 0.068706,
     "end_time": "2023-07-02T00:22:10.350971",
     "exception": false,
     "start_time": "2023-07-02T00:22:10.282265",
     "status": "completed"
    },
    "tags": []
   },
   "outputs": [
    {
     "data": {
      "text/html": [
       "<div>\n",
       "<style scoped>\n",
       "    .dataframe tbody tr th:only-of-type {\n",
       "        vertical-align: middle;\n",
       "    }\n",
       "\n",
       "    .dataframe tbody tr th {\n",
       "        vertical-align: top;\n",
       "    }\n",
       "\n",
       "    .dataframe thead th {\n",
       "        text-align: right;\n",
       "    }\n",
       "</style>\n",
       "<table border=\"1\" class=\"dataframe\">\n",
       "  <thead>\n",
       "    <tr style=\"text-align: right;\">\n",
       "      <th></th>\n",
       "      <th>Accuracy</th>\n",
       "      <th>ROC AUC</th>\n",
       "      <th>Log Loss</th>\n",
       "      <th>Accuracy Z Score</th>\n",
       "      <th>ROC AUC Z Score</th>\n",
       "      <th>Log Loss Z Score</th>\n",
       "      <th>Average Z Score</th>\n",
       "    </tr>\n",
       "    <tr>\n",
       "      <th>Model</th>\n",
       "      <th></th>\n",
       "      <th></th>\n",
       "      <th></th>\n",
       "      <th></th>\n",
       "      <th></th>\n",
       "      <th></th>\n",
       "      <th></th>\n",
       "    </tr>\n",
       "  </thead>\n",
       "  <tbody>\n",
       "    <tr>\n",
       "      <th>Average with SMOTE</th>\n",
       "      <td>0.936529</td>\n",
       "      <td>0.974880</td>\n",
       "      <td>0.191050</td>\n",
       "      <td>-0.409824</td>\n",
       "      <td>0.832742</td>\n",
       "      <td>0.723714</td>\n",
       "      <td>0.778228</td>\n",
       "    </tr>\n",
       "    <tr>\n",
       "      <th>XGBoost with SMOTE</th>\n",
       "      <td>0.942912</td>\n",
       "      <td>0.974002</td>\n",
       "      <td>0.206840</td>\n",
       "      <td>0.295915</td>\n",
       "      <td>0.410305</td>\n",
       "      <td>0.499330</td>\n",
       "      <td>0.454818</td>\n",
       "    </tr>\n",
       "    <tr>\n",
       "      <th>SVM with SMOTE</th>\n",
       "      <td>0.930168</td>\n",
       "      <td>0.970142</td>\n",
       "      <td>0.224497</td>\n",
       "      <td>-1.113086</td>\n",
       "      <td>-1.447843</td>\n",
       "      <td>0.248416</td>\n",
       "      <td>-0.599714</td>\n",
       "    </tr>\n",
       "    <tr>\n",
       "      <th>Extra Trees with SMOTE</th>\n",
       "      <td>0.951333</td>\n",
       "      <td>0.973575</td>\n",
       "      <td>0.345525</td>\n",
       "      <td>1.226995</td>\n",
       "      <td>0.204796</td>\n",
       "      <td>-1.471461</td>\n",
       "      <td>-0.633332</td>\n",
       "    </tr>\n",
       "  </tbody>\n",
       "</table>\n",
       "</div>"
      ],
      "text/plain": [
       "                        Accuracy   ROC AUC  Log Loss  Accuracy Z Score  \\\n",
       "Model                                                                    \n",
       "Average with SMOTE      0.936529  0.974880  0.191050         -0.409824   \n",
       "XGBoost with SMOTE      0.942912  0.974002  0.206840          0.295915   \n",
       "SVM with SMOTE          0.930168  0.970142  0.224497         -1.113086   \n",
       "Extra Trees with SMOTE  0.951333  0.973575  0.345525          1.226995   \n",
       "\n",
       "                        ROC AUC Z Score  Log Loss Z Score  Average Z Score  \n",
       "Model                                                                       \n",
       "Average with SMOTE             0.832742          0.723714         0.778228  \n",
       "XGBoost with SMOTE             0.410305          0.499330         0.454818  \n",
       "SVM with SMOTE                -1.447843          0.248416        -0.599714  \n",
       "Extra Trees with SMOTE         0.204796         -1.471461        -0.633332  "
      ]
     },
     "execution_count": 22,
     "metadata": {},
     "output_type": "execute_result"
    }
   ],
   "source": [
    "# find best sampling strategy for submission\n",
    "results = cv_results.drop('Fold', axis = 1).groupby('Model').mean()\n",
    "results['Accuracy Z Score'] = (results['Accuracy'] - results['Accuracy'].mean()) / results['Accuracy'].std()\n",
    "results['ROC AUC Z Score'] = (results['ROC AUC'] - results['ROC AUC'].mean()) / results['ROC AUC'].std()\n",
    "results['Log Loss Z Score'] = ((results['Log Loss'] - results['Log Loss'].mean()) / results['Log Loss'].std()) * -1\n",
    "results['Average Z Score'] = results[['ROC AUC Z Score','Log Loss Z Score']].mean(axis = 1)\n",
    "results.sort_values('Log Loss Z Score', ascending = False)"
   ]
  },
  {
   "attachments": {},
   "cell_type": "markdown",
   "id": "1241e343",
   "metadata": {
    "papermill": {
     "duration": 0.017086,
     "end_time": "2023-07-02T00:22:10.384312",
     "exception": false,
     "start_time": "2023-07-02T00:22:10.367226",
     "status": "completed"
    },
    "tags": []
   },
   "source": [
    "### Submission"
   ]
  },
  {
   "cell_type": "code",
   "execution_count": 23,
   "id": "4ca48fdc",
   "metadata": {
    "execution": {
     "iopub.execute_input": "2023-07-02T00:22:10.419981Z",
     "iopub.status.busy": "2023-07-02T00:22:10.419387Z",
     "iopub.status.idle": "2023-07-02T00:22:10.436848Z",
     "shell.execute_reply": "2023-07-02T00:22:10.435534Z"
    },
    "papermill": {
     "duration": 0.038518,
     "end_time": "2023-07-02T00:22:10.439412",
     "exception": false,
     "start_time": "2023-07-02T00:22:10.400894",
     "status": "completed"
    },
    "tags": []
   },
   "outputs": [],
   "source": [
    "def prediction_pipeline(X):\n",
    "    X['EJ'].replace({'A': 0, 'B': 1}, inplace = True)\n",
    "    X = X.select_dtypes(include = [np.number])\n",
    "    X['Months Since 1-1-2019'] = [X_train['Months Since 1-1-2019'].max() + 1] * len(X)\n",
    "    \n",
    "    X_columns = X.columns\n",
    "    X_index = X.index\n",
    "    \n",
    "    X = standard_scaler.transform(X)\n",
    "    X = knn_imputer.transform(X)\n",
    "    X = pd.DataFrame(X, columns = X_columns, index = X_index)\n",
    "\n",
    "    for model in pre_fit_models:\n",
    "        if model == 'KNN 7':\n",
    "            model_predictions = pre_fit_models[model].predict_proba(X[knn_features])\n",
    "        else:\n",
    "            model_predictions = pre_fit_models[model].predict_proba(X[model_features])\n",
    "            \n",
    "        predictions_df = pd.DataFrame(model_predictions, columns = pre_fit_models[model].classes_, index = X_index)        \n",
    "        predictions_df.columns = [model + '_' + str(col) for col in predictions_df.columns]\n",
    "        X = pd.concat([X, predictions_df], axis = 1)\n",
    "        \n",
    "    for pred_class in y_train_alpha:\n",
    "        X['Alpha_' + str(pred_class)] = X['Extra Trees_' + str(pred_class)] + X['TabPFN_' + str(pred_class)]\n",
    "    \n",
    "    model_train, model_y = SMOTE(random_state = random_seed).fit_resample(X_train, y_train_class)\n",
    "    \n",
    "    models = {'xgb': {'model': xgb, 'weight': 0.4},\n",
    "              'xtree': {'model': xtree, 'weight': 0.2},\n",
    "              'svm': {'model': svm, 'weight': 0.4}}\n",
    "\n",
    "    weighted_proba = []\n",
    "    \n",
    "    for model_name, model_info in models.items():\n",
    "        model_info['model'].fit(model_train, model_y)\n",
    "        prediction = model_info['model'].predict_proba(X)\n",
    "        class_0 = prediction[:,0].sum()\n",
    "        class_1 = prediction[:,1].sum()\n",
    "        probabilities = prediction * np.array([[1/(class_0 if i==0 else class_1) for i in range(prediction.shape[1])]])\n",
    "        proba = probabilities / np.sum(probabilities, axis = 1, keepdims = 1)\n",
    "        proba = proba[:, 1]\n",
    "        \n",
    "        weighted_proba.append(proba * model_info['weight'])\n",
    "\n",
    "    X['class_1'] = np.sum(weighted_proba, axis = 0)\n",
    "    X['class_0'] = 1 - X['class_1']\n",
    "        \n",
    "    return X"
   ]
  },
  {
   "cell_type": "code",
   "execution_count": 24,
   "id": "d72c2f26",
   "metadata": {
    "execution": {
     "iopub.execute_input": "2023-07-02T00:22:10.475142Z",
     "iopub.status.busy": "2023-07-02T00:22:10.474188Z",
     "iopub.status.idle": "2023-07-02T00:22:37.328392Z",
     "shell.execute_reply": "2023-07-02T00:22:37.327079Z"
    },
    "papermill": {
     "duration": 26.87577,
     "end_time": "2023-07-02T00:22:37.331787",
     "exception": false,
     "start_time": "2023-07-02T00:22:10.456017",
     "status": "completed"
    },
    "tags": []
   },
   "outputs": [],
   "source": [
    "X_test = prediction_pipeline(test_df)"
   ]
  },
  {
   "cell_type": "code",
   "execution_count": 25,
   "id": "ffa98b24",
   "metadata": {
    "execution": {
     "iopub.execute_input": "2023-07-02T00:22:37.365264Z",
     "iopub.status.busy": "2023-07-02T00:22:37.364879Z",
     "iopub.status.idle": "2023-07-02T00:22:37.380095Z",
     "shell.execute_reply": "2023-07-02T00:22:37.378906Z"
    },
    "papermill": {
     "duration": 0.035028,
     "end_time": "2023-07-02T00:22:37.382885",
     "exception": false,
     "start_time": "2023-07-02T00:22:37.347857",
     "status": "completed"
    },
    "tags": []
   },
   "outputs": [],
   "source": [
    "predictions = X_test[['class_0', 'class_1']]\n",
    "submission = pd.concat([test_df[['Id']], predictions], axis = 1)\n",
    "submission.to_csv('submission.csv', index = False)"
   ]
  },
  {
   "cell_type": "code",
   "execution_count": 26,
   "id": "a68c77de",
   "metadata": {
    "execution": {
     "iopub.execute_input": "2023-07-02T00:22:37.416604Z",
     "iopub.status.busy": "2023-07-02T00:22:37.416153Z",
     "iopub.status.idle": "2023-07-02T00:22:37.429806Z",
     "shell.execute_reply": "2023-07-02T00:22:37.428558Z"
    },
    "papermill": {
     "duration": 0.03383,
     "end_time": "2023-07-02T00:22:37.432591",
     "exception": false,
     "start_time": "2023-07-02T00:22:37.398761",
     "status": "completed"
    },
    "tags": []
   },
   "outputs": [
    {
     "data": {
      "text/html": [
       "<div>\n",
       "<style scoped>\n",
       "    .dataframe tbody tr th:only-of-type {\n",
       "        vertical-align: middle;\n",
       "    }\n",
       "\n",
       "    .dataframe tbody tr th {\n",
       "        vertical-align: top;\n",
       "    }\n",
       "\n",
       "    .dataframe thead th {\n",
       "        text-align: right;\n",
       "    }\n",
       "</style>\n",
       "<table border=\"1\" class=\"dataframe\">\n",
       "  <thead>\n",
       "    <tr style=\"text-align: right;\">\n",
       "      <th></th>\n",
       "      <th>Id</th>\n",
       "      <th>class_0</th>\n",
       "      <th>class_1</th>\n",
       "    </tr>\n",
       "  </thead>\n",
       "  <tbody>\n",
       "    <tr>\n",
       "      <th>0</th>\n",
       "      <td>00eed32682bb</td>\n",
       "      <td>0.5</td>\n",
       "      <td>0.5</td>\n",
       "    </tr>\n",
       "    <tr>\n",
       "      <th>1</th>\n",
       "      <td>010ebe33f668</td>\n",
       "      <td>0.5</td>\n",
       "      <td>0.5</td>\n",
       "    </tr>\n",
       "    <tr>\n",
       "      <th>2</th>\n",
       "      <td>02fa521e1838</td>\n",
       "      <td>0.5</td>\n",
       "      <td>0.5</td>\n",
       "    </tr>\n",
       "    <tr>\n",
       "      <th>3</th>\n",
       "      <td>040e15f562a2</td>\n",
       "      <td>0.5</td>\n",
       "      <td>0.5</td>\n",
       "    </tr>\n",
       "    <tr>\n",
       "      <th>4</th>\n",
       "      <td>046e85c7cc7f</td>\n",
       "      <td>0.5</td>\n",
       "      <td>0.5</td>\n",
       "    </tr>\n",
       "  </tbody>\n",
       "</table>\n",
       "</div>"
      ],
      "text/plain": [
       "             Id  class_0  class_1\n",
       "0  00eed32682bb      0.5      0.5\n",
       "1  010ebe33f668      0.5      0.5\n",
       "2  02fa521e1838      0.5      0.5\n",
       "3  040e15f562a2      0.5      0.5\n",
       "4  046e85c7cc7f      0.5      0.5"
      ]
     },
     "execution_count": 26,
     "metadata": {},
     "output_type": "execute_result"
    }
   ],
   "source": [
    "submission"
   ]
  }
 ],
 "metadata": {
  "kernelspec": {
   "display_name": "Python 3",
   "language": "python",
   "name": "python3"
  },
  "language_info": {
   "codemirror_mode": {
    "name": "ipython",
    "version": 3
   },
   "file_extension": ".py",
   "mimetype": "text/x-python",
   "name": "python",
   "nbconvert_exporter": "python",
   "pygments_lexer": "ipython3",
   "version": "3.9.16"
  },
  "papermill": {
   "default_parameters": {},
   "duration": 203.946964,
   "end_time": "2023-07-02T00:22:39.276183",
   "environment_variables": {},
   "exception": null,
   "input_path": "__notebook__.ipynb",
   "output_path": "__notebook__.ipynb",
   "parameters": {},
   "start_time": "2023-07-02T00:19:15.329219",
   "version": "2.4.0"
  }
 },
 "nbformat": 4,
 "nbformat_minor": 5
}
