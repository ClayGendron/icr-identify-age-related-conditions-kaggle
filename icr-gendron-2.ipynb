{
 "cells": [
  {
   "cell_type": "code",
   "execution_count": 1,
   "id": "432cef56",
   "metadata": {
    "execution": {
     "iopub.execute_input": "2023-07-02T00:19:32.406279Z",
     "iopub.status.busy": "2023-07-02T00:19:32.405770Z",
     "iopub.status.idle": "2023-07-02T00:19:32.413314Z",
     "shell.execute_reply": "2023-07-02T00:19:32.411872Z"
    },
    "papermill": {
     "duration": 0.030411,
     "end_time": "2023-07-02T00:19:32.420388",
     "exception": false,
     "start_time": "2023-07-02T00:19:32.389977",
     "status": "completed"
    },
    "tags": []
   },
   "outputs": [],
   "source": [
    "# UNCOMMENT first with internet option turned on\n",
    "# Use GPU env\n",
    "\n",
    "# !pip download tabpfn --no-deps -d pip-packages\n",
    "\n",
    "# from tabpfn import TabPFNClassifier\n",
    "# TabPFNClassifier(N_ensemble_configurations = 64, device = 'cuda:0')\n",
    "\n",
    "# !mv /opt/conda/lib/python3.10/site-packages/tabpfn/models_diff/prior_diff_real_checkpoint_n_0_epoch_100.cpkt pip-packages/\n",
    "# !zip -r pip-packages.zip pip-packages\n",
    "\n",
    "# now you need to download the zip and upload it as dataset with the plus in the top left\n",
    "# then you need to add it to the notebook as data on the right, and name it `pip-packages-icr`\n",
    "\n",
    "# now you can turn internet off and still install, like below"
   ]
  },
  {
   "cell_type": "code",
   "execution_count": 2,
   "id": "904adcba",
   "metadata": {
    "execution": {
     "iopub.execute_input": "2023-07-02T00:19:32.446213Z",
     "iopub.status.busy": "2023-07-02T00:19:32.445818Z",
     "iopub.status.idle": "2023-07-02T00:19:48.156330Z",
     "shell.execute_reply": "2023-07-02T00:19:48.154530Z"
    },
    "papermill": {
     "duration": 15.727067,
     "end_time": "2023-07-02T00:19:48.159297",
     "exception": false,
     "start_time": "2023-07-02T00:19:32.432230",
     "status": "completed"
    },
    "tags": []
   },
   "outputs": [],
   "source": [
    "# !pip install tabpfn --no-index --find-links=file:///kaggle/input/pip-packages-icr/pip-packages"
   ]
  },
  {
   "cell_type": "code",
   "execution_count": 3,
   "id": "754a6f17",
   "metadata": {
    "execution": {
     "iopub.execute_input": "2023-07-02T00:19:48.185123Z",
     "iopub.status.busy": "2023-07-02T00:19:48.184705Z",
     "iopub.status.idle": "2023-07-02T00:19:52.200658Z",
     "shell.execute_reply": "2023-07-02T00:19:52.198919Z"
    },
    "papermill": {
     "duration": 4.03287,
     "end_time": "2023-07-02T00:19:52.203865",
     "exception": false,
     "start_time": "2023-07-02T00:19:48.170995",
     "status": "completed"
    },
    "tags": []
   },
   "outputs": [],
   "source": [
    "# !mkdir -p /opt/conda/lib/python3.10/site-packages/tabpfn/models_diff\n",
    "# !cp /kaggle/input/pip-packages-icr/pip-packages/prior_diff_real_checkpoint_n_0_epoch_100.cpkt /opt/conda/lib/python3.10/site-packages/tabpfn/models_diff/"
   ]
  },
  {
   "cell_type": "code",
   "execution_count": 134,
   "id": "9b6ed41f",
   "metadata": {
    "execution": {
     "iopub.execute_input": "2023-07-02T00:19:52.231068Z",
     "iopub.status.busy": "2023-07-02T00:19:52.229337Z",
     "iopub.status.idle": "2023-07-02T00:19:59.633341Z",
     "shell.execute_reply": "2023-07-02T00:19:59.632047Z"
    },
    "papermill": {
     "duration": 7.42178,
     "end_time": "2023-07-02T00:19:59.637027",
     "exception": false,
     "start_time": "2023-07-02T00:19:52.215247",
     "status": "completed"
    },
    "tags": []
   },
   "outputs": [],
   "source": [
    "import pandas as pd\n",
    "import numpy as np\n",
    "import matplotlib.pyplot as plt\n",
    "import seaborn as sns\n",
    "from pyprojroot import here\n",
    "\n",
    "from sklearn.preprocessing import StandardScaler, LabelEncoder\n",
    "from sklearn.impute import KNNImputer\n",
    "\n",
    "from sklearn.metrics import accuracy_score, roc_auc_score, make_scorer\n",
    "from sklearn.model_selection import GridSearchCV, StratifiedKFold\n",
    "from sklearn.neighbors import KNeighborsClassifier\n",
    "from sklearn.linear_model import LogisticRegression\n",
    "from sklearn.svm import SVC\n",
    "from sklearn.ensemble import ExtraTreesClassifier\n",
    "from tabpfn import TabPFNClassifier\n",
    "from xgboost import XGBClassifier\n",
    "\n",
    "from imblearn.over_sampling import SMOTE, RandomOverSampler\n",
    "\n",
    "import warnings\n",
    "warnings.filterwarnings('ignore')"
   ]
  },
  {
   "attachments": {},
   "cell_type": "markdown",
   "id": "7a9ac510",
   "metadata": {
    "papermill": {
     "duration": 0.01148,
     "end_time": "2023-07-02T00:19:59.660545",
     "exception": false,
     "start_time": "2023-07-02T00:19:59.649065",
     "status": "completed"
    },
    "tags": []
   },
   "source": [
    "### Data Pull"
   ]
  },
  {
   "cell_type": "code",
   "execution_count": 135,
   "id": "ad76a758",
   "metadata": {
    "execution": {
     "iopub.execute_input": "2023-07-02T00:19:59.686195Z",
     "iopub.status.busy": "2023-07-02T00:19:59.685504Z",
     "iopub.status.idle": "2023-07-02T00:19:59.788122Z",
     "shell.execute_reply": "2023-07-02T00:19:59.786815Z"
    },
    "papermill": {
     "duration": 0.118784,
     "end_time": "2023-07-02T00:19:59.791151",
     "exception": false,
     "start_time": "2023-07-02T00:19:59.672367",
     "status": "completed"
    },
    "tags": []
   },
   "outputs": [],
   "source": [
    "# load data\n",
    "local_dir = str(here()) + '/'\n",
    "kaggle_dir = '/kaggle/input/'\n",
    "train_df = pd.read_csv(local_dir + 'icr-identify-age-related-conditions/train.csv')\n",
    "test_df = pd.read_csv(local_dir + 'icr-identify-age-related-conditions/test.csv')\n",
    "greeks_df = pd.read_csv(local_dir + 'icr-identify-age-related-conditions/greeks.csv')\n",
    "\n",
    "# join greeks and add Epsilon\n",
    "train_df = pd.merge(train_df, greeks_df, on = 'Id')\n",
    "train_df = train_df.drop(['Id', 'Beta', 'Gamma', 'Delta'], axis = 1)\n",
    "train_df['Epsilon'] = train_df['Epsilon'].replace('Unknown', np.nan)\n",
    "train_df = train_df[train_df['Epsilon'].notna()]\n",
    "train_df['Epsilon'] = pd.to_datetime(train_df['Epsilon'])\n",
    "\n",
    "# change epsilon to days since 1-1-2019 when data started to pick up\n",
    "train_df['Days Since 1-1-2019'] = (train_df['Epsilon'] - pd.to_datetime('2019-01-01')).dt.days\n",
    "train_df = train_df.drop('Epsilon', axis = 1)\n",
    "train_df.reset_index(drop = True, inplace = True)"
   ]
  },
  {
   "cell_type": "code",
   "execution_count": 136,
   "id": "dd377d49",
   "metadata": {
    "execution": {
     "iopub.execute_input": "2023-07-02T00:19:59.816083Z",
     "iopub.status.busy": "2023-07-02T00:19:59.815658Z",
     "iopub.status.idle": "2023-07-02T00:19:59.821960Z",
     "shell.execute_reply": "2023-07-02T00:19:59.820629Z"
    },
    "papermill": {
     "duration": 0.021891,
     "end_time": "2023-07-02T00:19:59.824688",
     "exception": false,
     "start_time": "2023-07-02T00:19:59.802797",
     "status": "completed"
    },
    "tags": []
   },
   "outputs": [],
   "source": [
    "# plot styles\n",
    "font_dict_header = {'size': 20, 'weight': 'bold'}\n",
    "font_dict_axistitle = {'size': 14, 'weight': 'bold'}"
   ]
  },
  {
   "attachments": {},
   "cell_type": "markdown",
   "id": "5a4bbed9",
   "metadata": {},
   "source": [
    "# Data Pre-Processing"
   ]
  },
  {
   "cell_type": "code",
   "execution_count": 137,
   "id": "e36428ca",
   "metadata": {},
   "outputs": [],
   "source": [
    "# set random seed\n",
    "random_seed = 101010\n",
    "np.random.seed(random_seed)\n",
    "\n",
    "# create x and y train\n",
    "X_train = train_df.drop(['Alpha', 'Class'], axis = 1, inplace = False)\n",
    "y_train_class = train_df['Class']\n",
    "y_train_alpha = train_df['Alpha']\n",
    "alpha_encoder = LabelEncoder()\n",
    "y_train_alpha = alpha_encoder.fit_transform(y_train_alpha)\n",
    "\n",
    "# clean categorical data\n",
    "X_train['EJ'].replace({'A': 0, 'B': 1}, inplace = True)\n",
    "\n",
    "# scale and impute data\n",
    "X_train_columns = X_train.columns\n",
    "X_train_index = X_train.index\n",
    "\n",
    "standard_scaler = StandardScaler()\n",
    "X_train = standard_scaler.fit_transform(X_train)\n",
    "\n",
    "knn_imputer = KNNImputer()\n",
    "X_train = knn_imputer.fit_transform(X_train)\n",
    "\n",
    "X_train = pd.DataFrame(X_train, columns = X_train_columns, index = X_train_index)"
   ]
  },
  {
   "attachments": {},
   "cell_type": "markdown",
   "id": "eec8fc25",
   "metadata": {},
   "source": [
    "# Alpha Prediction Features"
   ]
  },
  {
   "attachments": {},
   "cell_type": "markdown",
   "id": "d1efbb28",
   "metadata": {},
   "source": [
    "### Model Prediction Features\n",
    "KNN, Extra Trees, and TabPFN"
   ]
  },
  {
   "cell_type": "code",
   "execution_count": 138,
   "id": "2834aaab",
   "metadata": {},
   "outputs": [],
   "source": [
    "def fit_model(model_name, model, X_train, y_train, X_test, features):\n",
    "    X = X_train[features].copy()\n",
    "    y = y_train.copy()\n",
    "    test = X_test[features].copy()\n",
    "    \n",
    "    model.fit(X, y)\n",
    "    model_predictions = model.predict_proba(test)\n",
    "    predictions_df = pd.DataFrame(model_predictions, columns = model.classes_, index=X_test.index)\n",
    "    predictions_df.columns = [model_name + '_' + str(col) for col in predictions_df.columns]\n",
    "    \n",
    "    return predictions_df"
   ]
  },
  {
   "cell_type": "code",
   "execution_count": null,
   "id": "c0cb04ef",
   "metadata": {},
   "outputs": [],
   "source": [
    "# alpha models\n",
    "knn = KNeighborsClassifier(n_neighbors = 7)\n",
    "svm = SVC(probability = True, random_state = random_seed)\n",
    "extra_trees = ExtraTreesClassifier(n_estimators = 250, random_state = random_seed)\n",
    "tabpfn = TabPFNClassifier(N_ensemble_configurations = 64, seed = random_seed)"
   ]
  },
  {
   "cell_type": "code",
   "execution_count": 139,
   "id": "684d059d",
   "metadata": {},
   "outputs": [
    {
     "name": "stdout",
     "output_type": "stream",
     "text": [
      "Loading model that can be used for inference only\n",
      "Using a Transformer with 25.82 M parameters\n",
      "Loading model that can be used for inference only\n",
      "Using a Transformer with 25.82 M parameters\n",
      "Loading model that can be used for inference only\n",
      "Using a Transformer with 25.82 M parameters\n",
      "Loading model that can be used for inference only\n",
      "Using a Transformer with 25.82 M parameters\n",
      "Loading model that can be used for inference only\n",
      "Using a Transformer with 25.82 M parameters\n"
     ]
    }
   ],
   "source": [
    "skf = StratifiedKFold(n_splits = 5, random_state = random_seed, shuffle = True)\n",
    "model_prediction_features_df = pd.DataFrame({})\n",
    "for i, (train_index, test_index) in enumerate(skf.split(X_train, y_train_alpha)):\n",
    "    fold, oof = X_train.loc[train_index], X_train.loc[test_index]\n",
    "    fold_y, oof_y = y_train_alpha[train_index], y_train_alpha[test_index]\n",
    "    \n",
    "    model_features = [\n",
    "        'DU', 'CR', 'AB', 'DA', 'DH', 'BC', 'FR', 'EP', 'DI', 'FL', 'EU', 'EH', 'Days Since 1-1-2019'\n",
    "    ]\n",
    "    \n",
    "    # fit models\n",
    "    knn_features = model_features[0:3]\n",
    "    knn_features.append(model_features[-1])\n",
    "    \n",
    "    knn_predictions = fit_model('KNN 7', knn, fold, fold_y, oof, knn_features)\n",
    "    svm_predictions = fit_model('SVM', svm, fold, fold_y, oof, model_features)\n",
    "    extra_trees_predictions = fit_model('Extra Trees', extra_trees, fold, fold_y, oof, model_features)\n",
    "    tabpfn_predictions = fit_model('TabPFN', tabpfn, fold, fold_y, oof, model_features)\n",
    "    \n",
    "    predictions_df = pd.concat([knn_predictions, svm_predictions, extra_trees_predictions, tabpfn_predictions], axis = 1)\n",
    "    model_prediction_features_df = pd.concat([model_prediction_features_df, predictions_df])\n",
    "    \n",
    "X_train = pd.concat([X_train, model_prediction_features_df], axis = 1)\n",
    "for pred_class in y_train_alpha:\n",
    "    X_train['Alpha_' + str(pred_class)] = X_train['Extra Trees_' + str(pred_class)] + X_train['TabPFN_' + str(pred_class)]"
   ]
  },
  {
   "cell_type": "code",
   "execution_count": 122,
   "id": "758d4f02",
   "metadata": {},
   "outputs": [],
   "source": [
    "pre_fit_models = {\n",
    "    'KNN 7': knn.fit(X_train[knn_features], y_train_alpha),\n",
    "    'Logistic Regression': log_reg.fit(X_train[log_reg_features], y_train_alpha),\n",
    "    'SVM': svm.fit(X_train[model_features], y_train_alpha),\n",
    "    'Extra Trees': extra_trees.fit(X_train[model_features], y_train_alpha)\n",
    "}"
   ]
  },
  {
   "cell_type": "code",
   "execution_count": 123,
   "id": "5d287ac8",
   "metadata": {},
   "outputs": [
    {
     "name": "stdout",
     "output_type": "stream",
     "text": [
      "Shape of X: (473, 77)\n",
      "Shape of y: (473,)\n"
     ]
    }
   ],
   "source": [
    "print('Shape of X:', X_train.shape)\n",
    "print('Shape of y:', y_train_alpha.shape)"
   ]
  },
  {
   "cell_type": "code",
   "execution_count": 124,
   "id": "1eba5224",
   "metadata": {},
   "outputs": [],
   "source": [
    "# print('Shape of X:', X_test.shape)\n",
    "# print('Shape of y:', y_test.shape)"
   ]
  },
  {
   "attachments": {},
   "cell_type": "markdown",
   "id": "2e413c60",
   "metadata": {},
   "source": [
    "# Model Pipeline"
   ]
  },
  {
   "cell_type": "code",
   "execution_count": 228,
   "id": "5026f9e5",
   "metadata": {},
   "outputs": [],
   "source": [
    "def competition_log_loss(y_true, y_pred):\n",
    "    # calculate the predictin probability, clip it to avoid log(0) and calculate the log loss\n",
    "    proba_1 = np.clip(y_pred, 1e-15, 1 - 1e-15)\n",
    "    proba_0 = np.clip(1 - proba_1, 1e-15, 1 - 1e-15)\n",
    "    \n",
    "    # count each class\n",
    "    class_0 = np.sum(1 - y_true)\n",
    "    class_1 = np.sum(y_true)\n",
    "\n",
    "    # log loss for each class\n",
    "    log_loss_0 = -np.sum((1 - y_true) * np.log(proba_0)) / class_0\n",
    "    log_loss_1 = -np.sum(y_true * np.log(proba_1)) / class_1\n",
    "    \n",
    "    # return average log loss\n",
    "    return (log_loss_0 + log_loss_1)/2\n",
    "\n",
    "# make scorer for sklearn GridSearchCV\n",
    "balanced_log_loss_scorer = make_scorer(competition_log_loss, greater_is_better = False, needs_proba = True)"
   ]
  },
  {
   "cell_type": "code",
   "execution_count": 229,
   "id": "b6b6f3b8",
   "metadata": {},
   "outputs": [],
   "source": [
    "X_train['Class'] = y_train_class\n",
    "X_train['Alpha'] = y_train_alpha"
   ]
  },
  {
   "cell_type": "code",
   "execution_count": 230,
   "id": "2dcb6283",
   "metadata": {},
   "outputs": [
    {
     "name": "stdout",
     "output_type": "stream",
     "text": [
      "Loading model that can be used for inference only\n",
      "Using a Transformer with 25.82 M parameters\n"
     ]
    }
   ],
   "source": [
    "# models\n",
    "xgb = XGBClassifier(\n",
    "    booster = 'gbtree',\n",
    "    learning_rate = 0.02,\n",
    "    n_estimators = 300,\n",
    "    max_depth = 6,\n",
    "    gamma = 0.3,\n",
    "    min_child_weight = 2,\n",
    "    max_delta_step = 1,\n",
    "    subsample = 0.7,\n",
    "    base_score = 0.85,\n",
    "    n_jobs = -1, random_state = random_seed\n",
    ")\n",
    "\n",
    "tabpfn = TabPFNClassifier(\n",
    "    N_ensemble_configurations = 64\n",
    ")"
   ]
  },
  {
   "cell_type": "code",
   "execution_count": 247,
   "id": "ff109cfc",
   "metadata": {},
   "outputs": [
    {
     "name": "stdout",
     "output_type": "stream",
     "text": [
      "Balanced Log Loss: 0.18209156972660007\n",
      "Balanced Log Loss: 0.3422173749443676\n",
      "Balanced Log Loss: 0.16227826796703163\n",
      "Balanced Log Loss: 0.37937077289688376\n",
      "Balanced Log Loss: 0.18196387920742496\n"
     ]
    }
   ],
   "source": [
    "y_true = []\n",
    "y_pred = []\n",
    "log_loss = []\n",
    "\n",
    "skf = StratifiedKFold(n_splits = 5, random_state = random_seed, shuffle = True)\n",
    "for i, (train_index, test_index) in enumerate(skf.split(X_train, y_train_alpha)):\n",
    "    fold, oof = X_train.loc[train_index], X_train.loc[test_index]\n",
    "    fold_y_class, oof_y_class = y_train_class[train_index], y_train_class[test_index]\n",
    "    fold_y_alpha, oof_y_alpha = y_train_alpha[train_index], y_train_alpha[test_index]\n",
    "    \n",
    "    # over sample\n",
    "    over_sampler = RandomOverSampler(random_state = random_seed)\n",
    "    fold, fold_y_class = over_sampler.fit_resample(fold, fold_y_class)\n",
    "    fold_y_alpha = fold['Alpha']\n",
    "    fold.drop(['Alpha', 'Class'], axis = 1, inplace = True)\n",
    "    oof.drop(['Alpha', 'Class'], axis = 1, inplace = True)\n",
    "    \n",
    "    # train models   \n",
    "    xgb.fit(fold, fold_y_alpha)\n",
    "    tabpfn.fit(fold[fold.columns[:-20]], fold_y_alpha)\n",
    "    \n",
    "    # predict oof\n",
    "    oof_y_alpha_proba = xgb.predict_proba(oof)\n",
    "    oof_y_alpha_proba += tabpfn.predict_proba(oof[oof.columns[:-20]])\n",
    "    oof_y_alpha_proba /= 2\n",
    "    \n",
    "    # class_0 = oof_y_alpha_proba[:, 0].sum()\n",
    "    # class_123 = oof_y_alpha_proba[:, 1:].sum()\n",
    "    # new_probabilities = oof_y_alpha_proba * np.array([[1/(class_0 if i == 0 else class_123) for i in range(oof_y_alpha_proba.shape[1])]])\n",
    "    # oof_y_alpha_proba =  new_probabilities / np.sum(new_probabilities, axis = 1, keepdims = 1)\n",
    "    \n",
    "    oof_y_class_proba = oof_y_alpha_proba[:, 1:].sum(axis = 1)\n",
    "    # oof_y_class_proba[oof_y_class_proba > 0.95] = 1\n",
    "    # oof_y_class_proba[oof_y_class_proba < 0.025] = 0\n",
    "    \n",
    "    fold_log_loss = competition_log_loss(oof_y_class, oof_y_class_proba)\n",
    "    log_loss.append(fold_log_loss)\n",
    "    \n",
    "    print('Balanced Log Loss:', fold_log_loss)\n",
    "    y_true.append(oof_y_class)\n",
    "    y_pred.append(oof_y_class_proba)"
   ]
  },
  {
   "cell_type": "code",
   "execution_count": 255,
   "id": "ad9e36b7",
   "metadata": {},
   "outputs": [
    {
     "data": {
      "text/plain": [
       "0.2495843729484616"
      ]
     },
     "execution_count": 255,
     "metadata": {},
     "output_type": "execute_result"
    }
   ],
   "source": [
    "np.mean(log_loss)"
   ]
  },
  {
   "cell_type": "code",
   "execution_count": 257,
   "id": "88621edc",
   "metadata": {},
   "outputs": [],
   "source": [
    "max_pred = [\n",
    "    0.75, 0.76, 0.77, 0.78, 0.79, \n",
    "    0.80, 0.81, 0.82, 0.83, 0.84, \n",
    "    0.85, 0.86, 0.87, 0.88, 0.89, \n",
    "    0.90, 0.91, 0.92, 0.93, 0.94, \n",
    "    0.95, 0.96, 0.97, 0.98, 0.99,\n",
    "    1.00\n",
    "]\n",
    "min_pred = [\n",
    "    0.00, 0.01, 0.02, 0.03, 0.04, \n",
    "    0.05, 0.06, 0.07, 0.08, 0.09, \n",
    "    0.10, 0.11, 0.12, 0.13, 0.14, \n",
    "    0.15, 0.16, 0.17, 0.18, 0.19, \n",
    "    0.20, 0.21, 0.22, 0.23, 0.24, \n",
    "    0.25\n",
    "]\n",
    "\n",
    "optimal_thresholds = pd.DataFrame({}, columns = ['Max', 'Min', 'Log Loss'])\n",
    "for max_v in max_pred:\n",
    "    for min_v in min_pred:\n",
    "        for i in range(len(y_pred)):\n",
    "            fold_pred = y_pred[i].copy()\n",
    "            fold_true = y_true[i].copy()\n",
    "            \n",
    "            fold_pred[fold_pred > max_v] = 1\n",
    "            fold_pred[fold_pred < min_v] = 0\n",
    "            \n",
    "            loss = competition_log_loss(fold_true, fold_pred)\n",
    "            \n",
    "            # add to dataframe\n",
    "            new_row = pd.DataFrame({'Max': [max_v], 'Min': [min_v], 'Log Loss': [loss]})\n",
    "            optimal_thresholds = pd.concat([optimal_thresholds, new_row], ignore_index = True)"
   ]
  },
  {
   "cell_type": "code",
   "execution_count": 260,
   "id": "f227e22c",
   "metadata": {},
   "outputs": [
    {
     "data": {
      "text/html": [
       "<div>\n",
       "<style scoped>\n",
       "    .dataframe tbody tr th:only-of-type {\n",
       "        vertical-align: middle;\n",
       "    }\n",
       "\n",
       "    .dataframe tbody tr th {\n",
       "        vertical-align: top;\n",
       "    }\n",
       "\n",
       "    .dataframe thead th {\n",
       "        text-align: right;\n",
       "    }\n",
       "</style>\n",
       "<table border=\"1\" class=\"dataframe\">\n",
       "  <thead>\n",
       "    <tr style=\"text-align: right;\">\n",
       "      <th></th>\n",
       "      <th></th>\n",
       "      <th>Log Loss</th>\n",
       "    </tr>\n",
       "    <tr>\n",
       "      <th>Max</th>\n",
       "      <th>Min</th>\n",
       "      <th></th>\n",
       "    </tr>\n",
       "  </thead>\n",
       "  <tbody>\n",
       "    <tr>\n",
       "      <th>0.82</th>\n",
       "      <th>0.0</th>\n",
       "      <td>0.229808</td>\n",
       "    </tr>\n",
       "    <tr>\n",
       "      <th>0.83</th>\n",
       "      <th>0.0</th>\n",
       "      <td>0.231609</td>\n",
       "    </tr>\n",
       "    <tr>\n",
       "      <th>0.84</th>\n",
       "      <th>0.0</th>\n",
       "      <td>0.234067</td>\n",
       "    </tr>\n",
       "    <tr>\n",
       "      <th>0.85</th>\n",
       "      <th>0.0</th>\n",
       "      <td>0.234823</td>\n",
       "    </tr>\n",
       "    <tr>\n",
       "      <th>0.86</th>\n",
       "      <th>0.0</th>\n",
       "      <td>0.235584</td>\n",
       "    </tr>\n",
       "    <tr>\n",
       "      <th>0.87</th>\n",
       "      <th>0.0</th>\n",
       "      <td>0.237498</td>\n",
       "    </tr>\n",
       "    <tr>\n",
       "      <th>0.88</th>\n",
       "      <th>0.0</th>\n",
       "      <td>0.238735</td>\n",
       "    </tr>\n",
       "    <tr>\n",
       "      <th>0.89</th>\n",
       "      <th>0.0</th>\n",
       "      <td>0.239875</td>\n",
       "    </tr>\n",
       "    <tr>\n",
       "      <th>0.90</th>\n",
       "      <th>0.0</th>\n",
       "      <td>0.240897</td>\n",
       "    </tr>\n",
       "    <tr>\n",
       "      <th>0.91</th>\n",
       "      <th>0.0</th>\n",
       "      <td>0.241362</td>\n",
       "    </tr>\n",
       "  </tbody>\n",
       "</table>\n",
       "</div>"
      ],
      "text/plain": [
       "          Log Loss\n",
       "Max  Min          \n",
       "0.82 0.0  0.229808\n",
       "0.83 0.0  0.231609\n",
       "0.84 0.0  0.234067\n",
       "0.85 0.0  0.234823\n",
       "0.86 0.0  0.235584\n",
       "0.87 0.0  0.237498\n",
       "0.88 0.0  0.238735\n",
       "0.89 0.0  0.239875\n",
       "0.90 0.0  0.240897\n",
       "0.91 0.0  0.241362"
      ]
     },
     "execution_count": 260,
     "metadata": {},
     "output_type": "execute_result"
    }
   ],
   "source": [
    "optimal_thresholds.groupby(['Max', 'Min']).mean().sort_values('Log Loss', ascending = True).head(10)"
   ]
  },
  {
   "cell_type": "code",
   "execution_count": 242,
   "id": "31ea0d24",
   "metadata": {},
   "outputs": [
    {
     "data": {
      "text/html": [
       "<div>\n",
       "<style scoped>\n",
       "    .dataframe tbody tr th:only-of-type {\n",
       "        vertical-align: middle;\n",
       "    }\n",
       "\n",
       "    .dataframe tbody tr th {\n",
       "        vertical-align: top;\n",
       "    }\n",
       "\n",
       "    .dataframe thead th {\n",
       "        text-align: right;\n",
       "    }\n",
       "</style>\n",
       "<table border=\"1\" class=\"dataframe\">\n",
       "  <thead>\n",
       "    <tr style=\"text-align: right;\">\n",
       "      <th></th>\n",
       "      <th>Max</th>\n",
       "      <th>Min</th>\n",
       "      <th>Log Loss</th>\n",
       "    </tr>\n",
       "  </thead>\n",
       "  <tbody>\n",
       "    <tr>\n",
       "      <th>2500</th>\n",
       "      <td>0.95</td>\n",
       "      <td>0.01</td>\n",
       "      <td>0.900004</td>\n",
       "    </tr>\n",
       "    <tr>\n",
       "      <th>2501</th>\n",
       "      <td>0.95</td>\n",
       "      <td>0.01</td>\n",
       "      <td>2.392795</td>\n",
       "    </tr>\n",
       "    <tr>\n",
       "      <th>2502</th>\n",
       "      <td>0.95</td>\n",
       "      <td>0.01</td>\n",
       "      <td>0.812692</td>\n",
       "    </tr>\n",
       "    <tr>\n",
       "      <th>2503</th>\n",
       "      <td>0.95</td>\n",
       "      <td>0.01</td>\n",
       "      <td>2.585595</td>\n",
       "    </tr>\n",
       "    <tr>\n",
       "      <th>2504</th>\n",
       "      <td>0.95</td>\n",
       "      <td>0.01</td>\n",
       "      <td>1.147512</td>\n",
       "    </tr>\n",
       "    <tr>\n",
       "      <th>...</th>\n",
       "      <td>...</td>\n",
       "      <td>...</td>\n",
       "      <td>...</td>\n",
       "    </tr>\n",
       "    <tr>\n",
       "      <th>2620</th>\n",
       "      <td>0.95</td>\n",
       "      <td>0.25</td>\n",
       "      <td>0.900004</td>\n",
       "    </tr>\n",
       "    <tr>\n",
       "      <th>2621</th>\n",
       "      <td>0.95</td>\n",
       "      <td>0.25</td>\n",
       "      <td>2.392795</td>\n",
       "    </tr>\n",
       "    <tr>\n",
       "      <th>2622</th>\n",
       "      <td>0.95</td>\n",
       "      <td>0.25</td>\n",
       "      <td>0.812692</td>\n",
       "    </tr>\n",
       "    <tr>\n",
       "      <th>2623</th>\n",
       "      <td>0.95</td>\n",
       "      <td>0.25</td>\n",
       "      <td>2.585595</td>\n",
       "    </tr>\n",
       "    <tr>\n",
       "      <th>2624</th>\n",
       "      <td>0.95</td>\n",
       "      <td>0.25</td>\n",
       "      <td>1.147512</td>\n",
       "    </tr>\n",
       "  </tbody>\n",
       "</table>\n",
       "<p>125 rows × 3 columns</p>\n",
       "</div>"
      ],
      "text/plain": [
       "       Max   Min  Log Loss\n",
       "2500  0.95  0.01  0.900004\n",
       "2501  0.95  0.01  2.392795\n",
       "2502  0.95  0.01  0.812692\n",
       "2503  0.95  0.01  2.585595\n",
       "2504  0.95  0.01  1.147512\n",
       "...    ...   ...       ...\n",
       "2620  0.95  0.25  0.900004\n",
       "2621  0.95  0.25  2.392795\n",
       "2622  0.95  0.25  0.812692\n",
       "2623  0.95  0.25  2.585595\n",
       "2624  0.95  0.25  1.147512\n",
       "\n",
       "[125 rows x 3 columns]"
      ]
     },
     "execution_count": 242,
     "metadata": {},
     "output_type": "execute_result"
    }
   ],
   "source": [
    "optimal_thresholds[optimal_thresholds['Max'] == 0.95]"
   ]
  },
  {
   "cell_type": "code",
   "execution_count": 224,
   "id": "c69ec784",
   "metadata": {},
   "outputs": [],
   "source": [
    "proba_1 = np.clip(y_pred[4], 1e-15, 1 - 1e-15)\n",
    "proba_0 = np.clip(1 - proba_1, 1e-15, 1 - 1e-15)\n",
    "\n",
    "class_0 = np.sum(1 - y_true[4])\n",
    "class_1 = np.sum(y_true[4])"
   ]
  },
  {
   "cell_type": "code",
   "execution_count": 225,
   "id": "98fde748",
   "metadata": {},
   "outputs": [
    {
     "data": {
      "text/plain": [
       "-34.538776394910684"
      ]
     },
     "execution_count": 225,
     "metadata": {},
     "output_type": "execute_result"
    }
   ],
   "source": [
    "np.log(1e-15)"
   ]
  },
  {
   "cell_type": "code",
   "execution_count": 226,
   "id": "9c6948f0",
   "metadata": {},
   "outputs": [
    {
     "data": {
      "text/plain": [
       "array([1.0000000e+00, 1.0000000e+00, 1.0000000e+00, 1.0000000e+00,\n",
       "       1.0000000e+00, 1.0000000e+00, 1.0000000e+00, 1.0000000e+00,\n",
       "       1.0000000e+00, 1.0000000e+00, 1.0000000e+00, 1.0000000e-15,\n",
       "       1.0000000e+00, 1.0000000e+00, 5.7185173e-01, 1.0000000e+00,\n",
       "       1.0000000e+00, 1.0000000e-15, 1.0000000e-15, 1.0000000e+00,\n",
       "       1.0000000e+00, 1.0000000e+00, 1.0000000e+00, 1.0000000e+00,\n",
       "       1.0000000e+00, 1.0000000e+00, 1.0000000e+00, 1.0000000e+00,\n",
       "       1.0000000e-15, 2.7839404e-01, 1.0000000e+00, 1.0000000e+00,\n",
       "       1.0000000e+00, 2.7739519e-01, 1.0000000e+00, 1.0000000e+00,\n",
       "       1.0000000e+00, 1.0000000e+00, 1.0000000e+00, 6.7139268e-01,\n",
       "       1.0000000e+00, 1.0000000e-15, 1.0000000e+00, 1.0000000e+00,\n",
       "       1.0000000e+00, 1.0000000e+00, 1.0000000e+00, 3.8805455e-01,\n",
       "       1.0000000e+00, 1.0000000e-15, 1.0000000e+00, 1.0000000e+00,\n",
       "       1.0000000e+00, 1.0000000e+00, 4.8171961e-01, 1.0000000e+00,\n",
       "       1.0000000e+00, 4.7657430e-01, 1.0000000e+00, 2.6739550e-01,\n",
       "       1.0000000e-15, 1.0000000e+00, 1.0000000e-15, 1.0000000e+00,\n",
       "       1.0000000e+00, 1.0000000e+00, 1.0000000e+00, 1.0000000e+00,\n",
       "       1.0000000e-15, 1.0000000e-15, 1.0000000e+00, 1.0000000e+00,\n",
       "       1.0000000e+00, 1.0000000e+00, 1.0000000e-15, 1.0000000e+00,\n",
       "       1.0000000e+00, 1.0000000e+00, 1.0000000e+00, 1.0000000e+00,\n",
       "       1.0000000e-15, 1.0000000e+00, 1.0000000e+00, 1.0000000e+00,\n",
       "       1.0000000e-15, 1.0000000e+00, 1.0000000e+00, 1.0000000e+00,\n",
       "       1.0000000e+00, 1.0000000e+00, 1.0000000e-15, 1.0000000e+00,\n",
       "       1.0000000e+00, 1.0000000e+00], dtype=float32)"
      ]
     },
     "execution_count": 226,
     "metadata": {},
     "output_type": "execute_result"
    }
   ],
   "source": [
    "proba_0"
   ]
  },
  {
   "cell_type": "code",
   "execution_count": 227,
   "id": "da06f1d0",
   "metadata": {},
   "outputs": [
    {
     "data": {
      "text/plain": [
       "array([  0.        ,   0.        ,   0.        ,   0.        ,\n",
       "         0.        ,   0.        ,   0.        ,   0.        ,\n",
       "         0.        ,   0.        ,   0.        , -34.538776  ,\n",
       "         0.        ,   0.        ,  -0.55887556,   0.        ,\n",
       "         0.        , -34.538776  , -34.538776  ,   0.        ,\n",
       "         0.        ,   0.        ,   0.        ,   0.        ,\n",
       "         0.        ,   0.        ,   0.        ,   0.        ,\n",
       "       -34.538776  ,  -1.2787178 ,   0.        ,   0.        ,\n",
       "         0.        ,  -1.2823122 ,   0.        ,   0.        ,\n",
       "         0.        ,   0.        ,   0.        ,  -0.39840108,\n",
       "         0.        , -34.538776  ,   0.        ,   0.        ,\n",
       "         0.        ,   0.        ,   0.        ,  -0.9466094 ,\n",
       "         0.        , -34.538776  ,   0.        ,   0.        ,\n",
       "         0.        ,   0.        ,  -0.73039305,   0.        ,\n",
       "         0.        ,  -0.74113166,   0.        ,  -1.3190265 ,\n",
       "       -34.538776  ,   0.        , -34.538776  ,   0.        ,\n",
       "         0.        ,   0.        ,   0.        ,   0.        ,\n",
       "       -34.538776  , -34.538776  ,   0.        ,   0.        ,\n",
       "         0.        ,   0.        , -34.538776  ,   0.        ,\n",
       "         0.        ,   0.        ,   0.        ,   0.        ,\n",
       "       -34.538776  ,   0.        ,   0.        ,   0.        ,\n",
       "       -34.538776  ,   0.        ,   0.        ,   0.        ,\n",
       "         0.        ,   0.        , -34.538776  ,   0.        ,\n",
       "         0.        ,   0.        ], dtype=float32)"
      ]
     },
     "execution_count": 227,
     "metadata": {},
     "output_type": "execute_result"
    }
   ],
   "source": [
    "np.log(proba_0)"
   ]
  },
  {
   "cell_type": "code",
   "execution_count": null,
   "id": "b6c074ab",
   "metadata": {},
   "outputs": [],
   "source": [
    "# calculate the predictin probability, clip it to avoid log(0) and calculate the log loss\n",
    "proba_1 = np.clip(y_pred[4], 1e-15, 1 - 1e-15)\n",
    "proba_0 = 1 - proba_1\n",
    "\n",
    "# count each class\n",
    "class_0 = np.sum(1 - y_true)\n",
    "class_1 = np.sum(y_true)\n",
    "\n",
    "# log loss for each class\n",
    "log_loss_0 = -np.sum((1 - y_true) * np.log(proba_0)) / class_0\n",
    "log_loss_1 = -np.sum(y_true * np.log(proba_1)) / class_1\n",
    "\n",
    "# return average log loss\n",
    "return (log_loss_0 + log_loss_1)/2\n",
    "\n",
    "# make scorer for sklearn GridSearchCV\n",
    "balanced_log_loss_scorer = make_scorer(competition_log_loss, greater_is_better = False, needs_proba = True)"
   ]
  },
  {
   "cell_type": "code",
   "execution_count": 179,
   "id": "c7c52394",
   "metadata": {},
   "outputs": [
    {
     "data": {
      "text/plain": [
       "73"
      ]
     },
     "execution_count": 179,
     "metadata": {},
     "output_type": "execute_result"
    }
   ],
   "source": [
    "y_true[0]\n",
    "\n",
    "class_0 = np.sum(1 - y_true[4])\n",
    "class_0"
   ]
  },
  {
   "cell_type": "code",
   "execution_count": 132,
   "id": "ac41c000",
   "metadata": {},
   "outputs": [],
   "source": [
    "feature_cols = X_train.columns\n",
    "feature_cols = feature_cols.drop(['Class', 'Alpha'])"
   ]
  },
  {
   "cell_type": "code",
   "execution_count": 133,
   "id": "5421f67e",
   "metadata": {},
   "outputs": [
    {
     "data": {
      "image/png": "[encoded data removed]",
      "text/plain": [
       "<Figure size 1000x2000 with 1 Axes>"
      ]
     },
     "metadata": {},
     "output_type": "display_data"
    }
   ],
   "source": [
    "importances = pd.Series(xgb.feature_importances_, index = feature_cols).sort_values(ascending = True)\n",
    "\n",
    "plt.figure(figsize = (10, 20))\n",
    "plt.title('Feature Importances', fontdict = font_dict_header)\n",
    "plt.box(False)\n",
    "plt.barh(importances.index, importances.values)\n",
    "plt.xlabel('Importance Score', fontdict = font_dict_axistitle)\n",
    "plt.ylabel('Features', fontdict = font_dict_axistitle)\n",
    "plt.show()"
   ]
  }
 ],
 "metadata": {
  "kernelspec": {
   "display_name": "Python 3",
   "language": "python",
   "name": "python3"
  },
  "language_info": {
   "codemirror_mode": {
    "name": "ipython",
    "version": 3
   },
   "file_extension": ".py",
   "mimetype": "text/x-python",
   "name": "python",
   "nbconvert_exporter": "python",
   "pygments_lexer": "ipython3",
   "version": "3.10.9"
  },
  "papermill": {
   "default_parameters": {},
   "duration": 203.946964,
   "end_time": "2023-07-02T00:22:39.276183",
   "environment_variables": {},
   "exception": null,
   "input_path": "__notebook__.ipynb",
   "output_path": "__notebook__.ipynb",
   "parameters": {},
   "start_time": "2023-07-02T00:19:15.329219",
   "version": "2.4.0"
  }
 },
 "nbformat": 4,
 "nbformat_minor": 5
}
