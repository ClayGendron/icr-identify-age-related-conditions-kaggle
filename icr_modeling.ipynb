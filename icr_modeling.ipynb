{
 "cells": [
  {
   "cell_type": "code",
   "execution_count": 241,
   "metadata": {},
   "outputs": [],
   "source": [
    "# UNCOMMENT first with internet option turned on\n",
    "# Use GPU env\n",
    "\n",
    "# !pip download tabpfn --no-deps -d pip-packages\n",
    "\n",
    "# from tabpfn import TabPFNClassifier\n",
    "# TabPFNClassifier(N_ensemble_configurations = 64, device = 'cuda:0')\n",
    "\n",
    "# !mv /opt/conda/lib/python3.10/site-packages/tabpfn/models_diff/prior_diff_real_checkpoint_n_0_epoch_100.cpkt pip-packages/\n",
    "# !zip -r pip-packages.zip pip-packages\n",
    "\n",
    "# now you need to download the zip and upload it as dataset with the plus in the top left\n",
    "# then you need to add it to the notebook as data on the right, and name it `pip-packages-icr`\n",
    "\n",
    "# now you can turn internet off and still install, like below"
   ]
  },
  {
   "cell_type": "code",
   "execution_count": 242,
   "metadata": {},
   "outputs": [],
   "source": [
    "# !pip install tabpfn --no-index --find-links=file:///kaggle/input/pip-packages-icr/pip-packages"
   ]
  },
  {
   "cell_type": "code",
   "execution_count": 243,
   "metadata": {},
   "outputs": [],
   "source": [
    "# !mkdir -p /opt/conda/lib/python3.10/site-packages/tabpfn/models_diff\n",
    "# !cp /kaggle/input/pip-packages-icr/pip-packages/prior_diff_real_checkpoint_n_0_epoch_100.cpkt /opt/conda/lib/python3.10/site-packages/tabpfn/models_diff/"
   ]
  },
  {
   "attachments": {},
   "cell_type": "markdown",
   "metadata": {},
   "source": [
    "# Welcome!\n",
    "\n",
    "Thank you for viewing my submission for this competition! I have tried to make it as easy to follow as possible. If you have any questions, please feel free to ask in the comments section.\n",
    "\n",
    "My notebook is broken up into the following sections:\n",
    "\n",
    "### 1. Data Preprocessing\n",
    "\n",
    "In this section I do simple steps to clean the data and impute missing values. I also join in data from the `greeks_df` to add the `Epsilon` feature along with getting the `Alpha` field which further classifies the values in the `Class` field in our training data.\n",
    "\n",
    "### 2. Alpha Prediction Features\n",
    "\n",
    "The first step of my prediction pipeline is create a set of predictions on my training set for the `Alpha` field from the `greeks_df`. When I train the models in this section I only use a subset of all the features in the training dataset. I found that using only a subset of features improve the performance of later models, likely because later models were overfitting on the predictions from the intial models.\n",
    "\n",
    "I use a KNN, SVM, Extra Trees, and TabPFN model in this section. I chose these models as they are all very different approaches to building and training a predictive model and the hope is that their predictions each tell future models something different about a paticular row. \n",
    "\n",
    "Side note: \"Alpha\" has a dual purpose here as this is the first set of predictions (alpha predictions) in the model pipeline and the models are trying to predict each rows class in the `Alpha` column (alpha predictions). For the first reason, I hope I can get this \"Alpha Prediction Features\" term to catch on within the community :)\n",
    "\n",
    "### 3. Boosting Predictions\n",
    "\n",
    "The models that are handeling the final predictions are two gradient boosting models, `XGBoostClassifier` and `CatBoostClassifier`. In my testing, these models out performed others at this task, specificially in terms of the `competition_log_loss` which is how submissions for this competition are being evaluated. Without doing a simple copy and paste, I haven't been able to match the best scoring notebooks in this competition, but the "
   ]
  },
  {
   "cell_type": "code",
   "execution_count": 342,
   "metadata": {},
   "outputs": [],
   "source": [
    "import pandas as pd\n",
    "import numpy as np\n",
    "import matplotlib.pyplot as plt\n",
    "import seaborn as sns\n",
    "from pyprojroot import here\n",
    "\n",
    "from sklearn.preprocessing import StandardScaler, LabelEncoder, OneHotEncoder\n",
    "from sklearn.impute import KNNImputer\n",
    "\n",
    "# import base estimators\n",
    "from sklearn.base import BaseEstimator\n",
    "from sklearn.metrics import accuracy_score, roc_auc_score, make_scorer\n",
    "from sklearn.model_selection import GridSearchCV, StratifiedKFold\n",
    "from sklearn.neighbors import KNeighborsClassifier\n",
    "from sklearn.svm import SVC\n",
    "from sklearn.ensemble import ExtraTreesClassifier\n",
    "from tabpfn import TabPFNClassifier\n",
    "from xgboost import XGBClassifier\n",
    "from catboost import CatBoostClassifier\n",
    "\n",
    "from imblearn.over_sampling import SMOTE, RandomOverSampler\n",
    "\n",
    "import warnings\n",
    "warnings.filterwarnings('ignore')"
   ]
  },
  {
   "attachments": {},
   "cell_type": "markdown",
   "metadata": {},
   "source": [
    "### Data Pull"
   ]
  },
  {
   "cell_type": "code",
   "execution_count": 353,
   "metadata": {},
   "outputs": [],
   "source": [
    "# load data\n",
    "local_dir = str(here()) + '/'\n",
    "kaggle_dir = '/kaggle/input/'\n",
    "train_df = pd.read_csv(local_dir + 'icr-identify-age-related-conditions/train.csv')\n",
    "test_df = pd.read_csv(local_dir + 'icr-identify-age-related-conditions/test.csv')\n",
    "greeks_df = pd.read_csv(local_dir + 'icr-identify-age-related-conditions/greeks.csv')\n",
    "\n",
    "# join greeks and add Epsilon\n",
    "train_df = pd.merge(train_df, greeks_df, on = 'Id')\n",
    "train_df = train_df.drop(['Beta', 'Gamma', 'Delta'], axis = 1)\n",
    "train_df['Epsilon'] = train_df['Epsilon'].replace('Unknown', np.nan)\n",
    "\n",
    "# dropping rows with missing values in Epsilon as it helps with class imbalance\n",
    "# if future data does have this column, it will be important to know if it is missing\n",
    "train_df = train_df[train_df['Epsilon'].isna() == False].copy()\n",
    "train_df['Epsilon'] = pd.to_datetime(train_df['Epsilon'])\n",
    "\n",
    "# change epsilon to months since 1-1-2019 when data started to pick up\n",
    "train_df['Days Since 1-1-2019'] = (train_df['Epsilon'] - pd.to_datetime('2019-01-01')).dt.days\n",
    "train_df = train_df.drop('Epsilon', axis = 1)\n",
    "train_df.reset_index(drop = True, inplace = True)"
   ]
  },
  {
   "cell_type": "code",
   "execution_count": 354,
   "metadata": {},
   "outputs": [],
   "source": [
    "# plot styles\n",
    "font_dict_header = {'size': 20, 'weight': 'bold'}\n",
    "font_dict_axistitle = {'size': 14, 'weight': 'bold'}"
   ]
  },
  {
   "cell_type": "code",
   "execution_count": 355,
   "metadata": {},
   "outputs": [],
   "source": [
    "# features tiered by importance\n",
    "tier_1_features = ['EP', 'CR', 'AY', 'AB', 'DU', 'DA', 'DI', 'DH', 'BC', 'DL', 'EE', 'BQ', 'Months Since 1-1-2019']\n",
    "tier_2_features = ['EG', 'DY', 'FD ', 'AX', 'FR', 'FC', 'EL', 'DE', 'EU', 'FI', 'CS', 'BN', 'EH', 'EB', 'CC', 'GL', 'FL', 'CU', 'AF']\n",
    "tier_3_features = ['AH', 'AM', 'AR', 'AZ', 'BD ', 'BP', 'BR', 'BZ', 'CB', 'CD ', 'CF', 'CH', 'CL', 'CW ', 'DF', 'DN', 'DV', 'EJ', 'FE', 'FS', 'GB', 'GE', 'GF', 'GH', 'GI']"
   ]
  },
  {
   "attachments": {},
   "cell_type": "markdown",
   "metadata": {},
   "source": [
    "# Data Preprocessing"
   ]
  },
  {
   "cell_type": "code",
   "execution_count": 356,
   "metadata": {},
   "outputs": [],
   "source": [
    "# set random seed\n",
    "random_seed = 101010\n",
    "np.random.seed(random_seed)\n",
    "\n",
    "# pre-process data\n",
    "y_alpha = train_df['Alpha']\n",
    "y_class = train_df['Class']\n",
    "x = train_df.drop(['Id', 'Alpha', 'Class'], axis = 1, inplace = False)\n",
    "\n",
    "# create x and y train\n",
    "X_train = x.copy()\n",
    "y_train_alpha = y_alpha.copy()\n",
    "alpha_encoder = LabelEncoder()\n",
    "y_train_alpha = alpha_encoder.fit_transform(y_train_alpha)\n",
    "y_train_class = y_class.copy()\n",
    "\n",
    "# scale and impute data\n",
    "X_train['EJ'].replace({'A': 0, 'B': 1}, inplace = True)\n",
    "X_train_columns = X_train.columns\n",
    "X_train_index = X_train.index\n",
    "standard_scaler = StandardScaler()\n",
    "X_train = standard_scaler.fit_transform(X_train)\n",
    "knn_imputer = KNNImputer()\n",
    "X_train = knn_imputer.fit_transform(X_train)\n",
    "X_train = pd.DataFrame(X_train, columns = X_train_columns, index = X_train_index)"
   ]
  },
  {
   "attachments": {},
   "cell_type": "markdown",
   "metadata": {},
   "source": [
    "# Alpha Prediction Features"
   ]
  },
  {
   "attachments": {},
   "cell_type": "markdown",
   "metadata": {},
   "source": [
    "In this section I am using a KNN, SVM, Extra Trees, and TabPFN to create a set of alpha prediction features to be used in my final models. Each of these models uses differing approaches in making predictions, and the goal is for each to provide a unique insight about how to make predictions on the data.\n",
    "\n",
    "I am using a stratified k fold that splits the data into k different sets (folds) to complete this step. Alpha prediction features for fold 1 are created by training a model on fold 2, 3, 4, and 5. Predictions for fold 2 we train a model on fold 1, 3, 4, 5. Repeat until we have alpha predictions for the whole dataset. This ensures our alpha models are not trained and fitted on the same data as this would cause overfitting in later models that use these predictions as features.\n",
    "\n",
    "The `fit_alpha_model()` function is created to simplify the code for this process. Built into that function is a prediction normalization step that helps reduce log loss for this competition.\n",
    "\n",
    "The last step is creating the features `Alpha_0`, `Alpha_1`, `Alpha_2`, and `Alpha_3` which are the average of the predictions from from the Extra Trees and TabPFN models."
   ]
  },
  {
   "cell_type": "code",
   "execution_count": 357,
   "metadata": {},
   "outputs": [],
   "source": [
    "def fit_alpha_model(model_name, model, X_train, y_train, X_test, features):\n",
    "    \"\"\"\n",
    "    Function to fit a model and generate prediction probabilities for each class.\n",
    "    This is used for fitting alpha models whose predictions are used as features for the later models.\n",
    "    \n",
    "    Args:\n",
    "        model_name (str): Name of the model.\n",
    "        model (object): Scikit-learn like model to be fitted.\n",
    "        X_train (DataFrame): DataFrame with the training features.\n",
    "        y_train (Series): Series with the training target.\n",
    "        X_test (DataFrame): DataFrame with the testing features.\n",
    "        features (list): List of feature column names.\n",
    "        \n",
    "    Returns:\n",
    "        predictions_df (DataFrame): DataFrame with prediction probabilities for each class.\n",
    "    \"\"\"\n",
    "    \n",
    "    X = X_train[features].copy()\n",
    "    y = y_train.copy()\n",
    "    test = X_test[features].copy()\n",
    "    \n",
    "    model.fit(X, y)\n",
    "    model_predictions = model.predict_proba(test)\n",
    "    \n",
    "    # sum of probabilities for each class\n",
    "    normalization_mapping = model_predictions.sum(axis = 0)\n",
    "    \n",
    "    # normalize probabilities\n",
    "    new_probabilities = model_predictions / normalization_mapping\n",
    "    model_predictions = new_probabilities / np.sum(new_probabilities, axis = 1, keepdims = True)\n",
    "    \n",
    "    # create a dataframe with predictions\n",
    "    predictions_df = pd.DataFrame(model_predictions, columns = model.classes_, index = X_test.index)\n",
    "    predictions_df.columns = ['_'.join([model_name, str(col)]) for col in predictions_df.columns]\n",
    "    \n",
    "    return predictions_df\n"
   ]
  },
  {
   "cell_type": "code",
   "execution_count": 359,
   "metadata": {},
   "outputs": [
    {
     "name": "stdout",
     "output_type": "stream",
     "text": [
      "Loading model that can be used for inference only\n",
      "Using a Transformer with 25.82 M parameters\n",
      "Loading model that can be used for inference only\n",
      "Using a Transformer with 25.82 M parameters\n",
      "Loading model that can be used for inference only\n",
      "Using a Transformer with 25.82 M parameters\n",
      "Loading model that can be used for inference only\n",
      "Using a Transformer with 25.82 M parameters\n",
      "Loading model that can be used for inference only\n",
      "Using a Transformer with 25.82 M parameters\n"
     ]
    }
   ],
   "source": [
    "# fitting alpha models\n",
    "skf = StratifiedKFold(n_splits = 5, random_state = random_seed, shuffle = True)\n",
    "model_prediction_features_df = pd.DataFrame({})\n",
    "\n",
    "model_features = [\n",
    "    'DU', 'CR', 'AB', 'DA', 'DH', 'BC', 'FR', 'EP', 'DI', 'FL', 'EU', 'EH', 'Days Since 1-1-2019'\n",
    "]\n",
    "\n",
    "for i, (train_index, test_index) in enumerate(skf.split(X_train, y_train_alpha)):\n",
    "    fold, oof = X_train.loc[train_index], X_train.loc[test_index]\n",
    "    fold_y, oof_y = y_train_alpha[train_index], y_train_alpha[test_index]\n",
    "    \n",
    "    # KNN\n",
    "    knn_features = model_features[0:3]\n",
    "    knn_features.append(model_features[-1])\n",
    "    knn = KNeighborsClassifier(n_neighbors = 7)\n",
    "    knn_predictions = fit_alpha_model('KNN 7', knn, fold, fold_y, oof, knn_features)\n",
    "    \n",
    "    # SVM\n",
    "    svm = SVC(probability = True, random_state = random_seed)\n",
    "    svm_predictions = fit_alpha_model('SVM', svm, fold, fold_y, oof, model_features)\n",
    "    \n",
    "    # Extra Trees\n",
    "    extra_trees = ExtraTreesClassifier(n_estimators = 250, random_state = random_seed)\n",
    "    extra_trees_predictions = fit_alpha_model('Extra Trees', extra_trees, fold, fold_y, oof, model_features)\n",
    "    \n",
    "    # TabPFN\n",
    "    tabpfn = TabPFNClassifier(N_ensemble_configurations = 64, seed = random_seed)\n",
    "    tabpfn_predictions = fit_alpha_model('TabPFN', tabpfn, fold, fold_y, oof, model_features)\n",
    "    \n",
    "    predictions_df = pd.concat([knn_predictions, extra_trees_predictions, svm_predictions, tabpfn_predictions], axis = 1)\n",
    "    model_prediction_features_df = pd.concat([model_prediction_features_df, predictions_df])"
   ]
  },
  {
   "cell_type": "code",
   "execution_count": 360,
   "metadata": {},
   "outputs": [],
   "source": [
    "alpha_models = {\n",
    "    'KNN 7': knn.fit(X_train[knn_features], y_train_alpha),\n",
    "    'SVM': svm.fit(X_train[model_features], y_train_alpha),\n",
    "    'Extra Trees': extra_trees.fit(X_train[model_features], y_train_alpha),\n",
    "    'TabPFN': tabpfn.fit(X_train[model_features], y_train_alpha)\n",
    "}"
   ]
  },
  {
   "cell_type": "code",
   "execution_count": 361,
   "metadata": {},
   "outputs": [],
   "source": [
    "X_train = pd.concat([X_train, model_prediction_features_df], axis = 1)\n",
    "for pred_class in y_train_alpha:\n",
    "    X_train['Alpha_' + str(pred_class)] = (X_train['TabPFN_' + str(pred_class)] + X_train['Extra Trees_' + str(pred_class)]) / 2"
   ]
  },
  {
   "cell_type": "code",
   "execution_count": 362,
   "metadata": {},
   "outputs": [
    {
     "name": "stdout",
     "output_type": "stream",
     "text": [
      "Shape of X: (473, 77)\n",
      "Shape of y: (473,)\n"
     ]
    }
   ],
   "source": [
    "print('Shape of X:', X_train.shape)\n",
    "print('Shape of y:', y_train_alpha.shape)"
   ]
  },
  {
   "cell_type": "code",
   "execution_count": 363,
   "metadata": {},
   "outputs": [],
   "source": [
    "# print('Shape of X:', X_test.shape)\n",
    "# print('Shape of y:', y_test.shape)"
   ]
  },
  {
   "attachments": {},
   "cell_type": "markdown",
   "metadata": {},
   "source": [
    "# Boosting Predictions"
   ]
  },
  {
   "cell_type": "code",
   "execution_count": 364,
   "metadata": {},
   "outputs": [],
   "source": [
    "def competition_log_loss(y_true, y_pred):\n",
    "    \"\"\"\n",
    "        Computes the competition log loss.\n",
    "\n",
    "        This function computes the log loss for a binary classification problem, \n",
    "        but it averages the log loss for each class separately and then takes their mean.\n",
    "        It is used when we want to give equal attention to both classes.\n",
    "\n",
    "        Parameters:\n",
    "        y_true (np.array): True labels.\n",
    "        y_pred (np.array): Predicted probabilities.\n",
    "\n",
    "        Returns:\n",
    "        float: The competition log loss.\n",
    "    \"\"\"\n",
    "    # calculate the predictin probability, clip it to avoid log(0) and calculate the log loss\n",
    "    proba_1 = np.clip(y_pred, 1e-15, 1 - 1e-15)\n",
    "    proba_0 = 1 - proba_1\n",
    "    \n",
    "    # count each class\n",
    "    class_0 = np.sum(1 - y_true)\n",
    "    class_1 = np.sum(y_true)\n",
    "\n",
    "    # log loss for each class\n",
    "    log_loss_0 = -np.sum((1 - y_true) * np.log(proba_0)) / class_0\n",
    "    log_loss_1 = -np.sum(y_true * np.log(proba_1)) / class_1\n",
    "    \n",
    "    # return average log loss\n",
    "    return (log_loss_0 + log_loss_1)/2\n",
    "\n",
    "# make scorer for sklearn GridSearchCV\n",
    "balanced_log_loss_scorer = make_scorer(competition_log_loss, greater_is_better = False, needs_proba = True)"
   ]
  },
  {
   "attachments": {},
   "cell_type": "markdown",
   "metadata": {},
   "source": [
    "### XGBoost"
   ]
  },
  {
   "cell_type": "code",
   "execution_count": 377,
   "metadata": {},
   "outputs": [
    {
     "data": {
      "text/html": [
       "<style>#sk-container-id-15 {color: black;background-color: white;}#sk-container-id-15 pre{padding: 0;}#sk-container-id-15 div.sk-toggleable {background-color: white;}#sk-container-id-15 label.sk-toggleable__label {cursor: pointer;display: block;width: 100%;margin-bottom: 0;padding: 0.3em;box-sizing: border-box;text-align: center;}#sk-container-id-15 label.sk-toggleable__label-arrow:before {content: \"▸\";float: left;margin-right: 0.25em;color: #696969;}#sk-container-id-15 label.sk-toggleable__label-arrow:hover:before {color: black;}#sk-container-id-15 div.sk-estimator:hover label.sk-toggleable__label-arrow:before {color: black;}#sk-container-id-15 div.sk-toggleable__content {max-height: 0;max-width: 0;overflow: hidden;text-align: left;background-color: #f0f8ff;}#sk-container-id-15 div.sk-toggleable__content pre {margin: 0.2em;color: black;border-radius: 0.25em;background-color: #f0f8ff;}#sk-container-id-15 input.sk-toggleable__control:checked~div.sk-toggleable__content {max-height: 200px;max-width: 100%;overflow: auto;}#sk-container-id-15 input.sk-toggleable__control:checked~label.sk-toggleable__label-arrow:before {content: \"▾\";}#sk-container-id-15 div.sk-estimator input.sk-toggleable__control:checked~label.sk-toggleable__label {background-color: #d4ebff;}#sk-container-id-15 div.sk-label input.sk-toggleable__control:checked~label.sk-toggleable__label {background-color: #d4ebff;}#sk-container-id-15 input.sk-hidden--visually {border: 0;clip: rect(1px 1px 1px 1px);clip: rect(1px, 1px, 1px, 1px);height: 1px;margin: -1px;overflow: hidden;padding: 0;position: absolute;width: 1px;}#sk-container-id-15 div.sk-estimator {font-family: monospace;background-color: #f0f8ff;border: 1px dotted black;border-radius: 0.25em;box-sizing: border-box;margin-bottom: 0.5em;}#sk-container-id-15 div.sk-estimator:hover {background-color: #d4ebff;}#sk-container-id-15 div.sk-parallel-item::after {content: \"\";width: 100%;border-bottom: 1px solid gray;flex-grow: 1;}#sk-container-id-15 div.sk-label:hover label.sk-toggleable__label {background-color: #d4ebff;}#sk-container-id-15 div.sk-serial::before {content: \"\";position: absolute;border-left: 1px solid gray;box-sizing: border-box;top: 0;bottom: 0;left: 50%;z-index: 0;}#sk-container-id-15 div.sk-serial {display: flex;flex-direction: column;align-items: center;background-color: white;padding-right: 0.2em;padding-left: 0.2em;position: relative;}#sk-container-id-15 div.sk-item {position: relative;z-index: 1;}#sk-container-id-15 div.sk-parallel {display: flex;align-items: stretch;justify-content: center;background-color: white;position: relative;}#sk-container-id-15 div.sk-item::before, #sk-container-id-15 div.sk-parallel-item::before {content: \"\";position: absolute;border-left: 1px solid gray;box-sizing: border-box;top: 0;bottom: 0;left: 50%;z-index: -1;}#sk-container-id-15 div.sk-parallel-item {display: flex;flex-direction: column;z-index: 1;position: relative;background-color: white;}#sk-container-id-15 div.sk-parallel-item:first-child::after {align-self: flex-end;width: 50%;}#sk-container-id-15 div.sk-parallel-item:last-child::after {align-self: flex-start;width: 50%;}#sk-container-id-15 div.sk-parallel-item:only-child::after {width: 0;}#sk-container-id-15 div.sk-dashed-wrapped {border: 1px dashed gray;margin: 0 0.4em 0.5em 0.4em;box-sizing: border-box;padding-bottom: 0.4em;background-color: white;}#sk-container-id-15 div.sk-label label {font-family: monospace;font-weight: bold;display: inline-block;line-height: 1.2em;}#sk-container-id-15 div.sk-label-container {text-align: center;}#sk-container-id-15 div.sk-container {/* jupyter's `normalize.less` sets `[hidden] { display: none; }` but bootstrap.min.css set `[hidden] { display: none !important; }` so we also need the `!important` here to be able to override the default hidden behavior on the sphinx rendered scikit-learn.org. See: https://github.com/scikit-learn/scikit-learn/issues/21755 */display: inline-block !important;position: relative;}#sk-container-id-15 div.sk-text-repr-fallback {display: none;}</style><div id=\"sk-container-id-15\" class=\"sk-top-container\"><div class=\"sk-text-repr-fallback\"><pre>XGBClassifier(base_score=0.85, booster=&#x27;gbtree&#x27;, callbacks=None,\n",
       "              colsample_bylevel=1, colsample_bynode=1, colsample_bytree=1,\n",
       "              early_stopping_rounds=None, enable_categorical=False,\n",
       "              eval_metric=None, gamma=0.3, gpu_id=-1, grow_policy=&#x27;depthwise&#x27;,\n",
       "              importance_type=None, interaction_constraints=&#x27;&#x27;,\n",
       "              learning_rate=0.02, max_bin=256, max_cat_to_onehot=4,\n",
       "              max_delta_step=1, max_depth=6, max_leaves=0, min_child_weight=2,\n",
       "              missing=nan, monotone_constraints=&#x27;()&#x27;, n_estimators=300,\n",
       "              n_jobs=-1, num_parallel_tree=1, predictor=&#x27;auto&#x27;,\n",
       "              random_state=101010, reg_alpha=0, reg_lambda=1, ...)</pre><b>In a Jupyter environment, please rerun this cell to show the HTML representation or trust the notebook. <br />On GitHub, the HTML representation is unable to render, please try loading this page with nbviewer.org.</b></div><div class=\"sk-container\" hidden><div class=\"sk-item\"><div class=\"sk-estimator sk-toggleable\"><input class=\"sk-toggleable__control sk-hidden--visually\" id=\"sk-estimator-id-15\" type=\"checkbox\" checked><label for=\"sk-estimator-id-15\" class=\"sk-toggleable__label sk-toggleable__label-arrow\">XGBClassifier</label><div class=\"sk-toggleable__content\"><pre>XGBClassifier(base_score=0.85, booster=&#x27;gbtree&#x27;, callbacks=None,\n",
       "              colsample_bylevel=1, colsample_bynode=1, colsample_bytree=1,\n",
       "              early_stopping_rounds=None, enable_categorical=False,\n",
       "              eval_metric=None, gamma=0.3, gpu_id=-1, grow_policy=&#x27;depthwise&#x27;,\n",
       "              importance_type=None, interaction_constraints=&#x27;&#x27;,\n",
       "              learning_rate=0.02, max_bin=256, max_cat_to_onehot=4,\n",
       "              max_delta_step=1, max_depth=6, max_leaves=0, min_child_weight=2,\n",
       "              missing=nan, monotone_constraints=&#x27;()&#x27;, n_estimators=300,\n",
       "              n_jobs=-1, num_parallel_tree=1, predictor=&#x27;auto&#x27;,\n",
       "              random_state=101010, reg_alpha=0, reg_lambda=1, ...)</pre></div></div></div></div></div>"
      ],
      "text/plain": [
       "XGBClassifier(base_score=0.85, booster='gbtree', callbacks=None,\n",
       "              colsample_bylevel=1, colsample_bynode=1, colsample_bytree=1,\n",
       "              early_stopping_rounds=None, enable_categorical=False,\n",
       "              eval_metric=None, gamma=0.3, gpu_id=-1, grow_policy='depthwise',\n",
       "              importance_type=None, interaction_constraints='',\n",
       "              learning_rate=0.02, max_bin=256, max_cat_to_onehot=4,\n",
       "              max_delta_step=1, max_depth=6, max_leaves=0, min_child_weight=2,\n",
       "              missing=nan, monotone_constraints='()', n_estimators=300,\n",
       "              n_jobs=-1, num_parallel_tree=1, predictor='auto',\n",
       "              random_state=101010, reg_alpha=0, reg_lambda=1, ...)"
      ]
     },
     "execution_count": 377,
     "metadata": {},
     "output_type": "execute_result"
    }
   ],
   "source": [
    "xgb = XGBClassifier(random_state = random_seed)\n",
    "\n",
    "parameters = {\n",
    "    'booster': ['gbtree'],\n",
    "    'learning_rate': [0.02],\n",
    "    'n_estimators': [300],\n",
    "    'max_depth': [6],\n",
    "    'gamma': [0.3],\n",
    "    'min_child_weight': [2],\n",
    "    'max_delta_step': [1],\n",
    "    'subsample': [0.7],\n",
    "    'base_score': [0.85],\n",
    "    'n_jobs': [-1]\n",
    "}\n",
    "\n",
    "grid_obj = GridSearchCV(xgb, parameters, scoring = balanced_log_loss_scorer, cv = 5)\n",
    "grid_obj = grid_obj.fit(X_train, y_train_class)\n",
    "xgb = grid_obj.best_estimator_\n",
    "xgb.fit(X_train, y_train_class)"
   ]
  },
  {
   "cell_type": "code",
   "execution_count": 378,
   "metadata": {},
   "outputs": [
    {
     "name": "stdout",
     "output_type": "stream",
     "text": [
      "Balanced Log Loss: 0.2087\n"
     ]
    }
   ],
   "source": [
    "# view results\n",
    "xgb_results = pd.DataFrame(grid_obj.cv_results_)\n",
    "print('Balanced Log Loss:', np.round(xgb_results['mean_test_score'].max() * -1, 4))"
   ]
  },
  {
   "cell_type": "code",
   "execution_count": 379,
   "metadata": {},
   "outputs": [
    {
     "data": {
      "image/png": "[encoded data removed]",
      "text/plain": [
       "<Figure size 792x576 with 1 Axes>"
      ]
     },
     "metadata": {
      "needs_background": "light"
     },
     "output_type": "display_data"
    },
    {
     "data": {
      "image/png": "[encoded data removed]",
      "text/plain": [
       "<Figure size 720x1440 with 1 Axes>"
      ]
     },
     "metadata": {
      "needs_background": "light"
     },
     "output_type": "display_data"
    }
   ],
   "source": [
    "# plot histogram of y_train_pred\n",
    "y_train_pred = xgb.predict_proba(X_train)[:,1]\n",
    "\n",
    "plt.figure(figsize = (11, 8))\n",
    "plt.title('Predictions', fontdict = font_dict_header)\n",
    "sns.histplot(y_train_pred, bins = 100, kde = False)\n",
    "plt.box(False)\n",
    "plt.xlabel('Predict Proba Class 1', fontdict = font_dict_axistitle)\n",
    "plt.ylabel('Count', fontdict = font_dict_axistitle)\n",
    "plt.box(False)\n",
    "plt.show()\n",
    "\n",
    "# plot feature importances\n",
    "importances = pd.Series(xgb.feature_importances_, index = X_train.columns).sort_values(ascending = True)\n",
    "\n",
    "plt.figure(figsize = (10, 20))\n",
    "plt.title('Feature Importances', fontdict = font_dict_header)\n",
    "plt.box(False)\n",
    "plt.barh(importances.index, importances.values)\n",
    "plt.xlabel('Importance Score', fontdict = font_dict_axistitle)\n",
    "plt.ylabel('Features', fontdict = font_dict_axistitle)\n",
    "plt.show()"
   ]
  },
  {
   "attachments": {},
   "cell_type": "markdown",
   "metadata": {},
   "source": [
    "## Cat Boost"
   ]
  },
  {
   "cell_type": "code",
   "execution_count": 380,
   "metadata": {},
   "outputs": [
    {
     "data": {
      "text/plain": [
       "<catboost.core.CatBoostClassifier at 0x32acf6580>"
      ]
     },
     "execution_count": 380,
     "metadata": {},
     "output_type": "execute_result"
    }
   ],
   "source": [
    "catboost = CatBoostClassifier(random_state = random_seed, verbose = False)\n",
    "\n",
    "parameters = {\n",
    "    'learning_rate': [0.03],\n",
    "    'iterations': [300],\n",
    "    'depth': [9],\n",
    "    'random_strength': [0.3],\n",
    "    'border_count': [4],\n",
    "    'bagging_temperature': [0.9],\n",
    "    'loss_function': ['Logloss']\n",
    "    \n",
    "}\n",
    "\n",
    "grid_obj = GridSearchCV(catboost, parameters, scoring = balanced_log_loss_scorer, cv = 5)\n",
    "grid_obj = grid_obj.fit(X_train, y_train_class)\n",
    "catboost = grid_obj.best_estimator_\n",
    "catboost.fit(X_train, y_train_class)"
   ]
  },
  {
   "cell_type": "code",
   "execution_count": 381,
   "metadata": {},
   "outputs": [
    {
     "name": "stdout",
     "output_type": "stream",
     "text": [
      "Balanced Log Loss: 0.2345\n"
     ]
    }
   ],
   "source": [
    "# view results\n",
    "catboost_results = pd.DataFrame(grid_obj.cv_results_)\n",
    "print('Balanced Log Loss:', np.round(catboost_results['mean_test_score'].max() * -1, 4))"
   ]
  },
  {
   "cell_type": "code",
   "execution_count": 382,
   "metadata": {},
   "outputs": [
    {
     "data": {
      "image/png": "[encoded data removed]",
      "text/plain": [
       "<Figure size 792x576 with 1 Axes>"
      ]
     },
     "metadata": {
      "needs_background": "light"
     },
     "output_type": "display_data"
    },
    {
     "data": {
      "image/png": "[encoded data removed]",
      "text/plain": [
       "<Figure size 720x1440 with 1 Axes>"
      ]
     },
     "metadata": {
      "needs_background": "light"
     },
     "output_type": "display_data"
    }
   ],
   "source": [
    "# plot histogram of y_train_pred\n",
    "y_train_pred = catboost.predict_proba(X_train)[:,1]\n",
    "\n",
    "plt.figure(figsize = (11, 8))\n",
    "plt.title('Predictions', fontdict = font_dict_header)\n",
    "sns.histplot(y_train_pred, bins = 100, kde = False)\n",
    "plt.box(False)\n",
    "plt.xlabel('Predict Proba Class 1', fontdict = font_dict_axistitle)\n",
    "plt.ylabel('Count', fontdict = font_dict_axistitle)\n",
    "plt.box(False)\n",
    "plt.show()\n",
    "\n",
    "# plot feature importances\n",
    "importances = pd.Series(catboost.feature_importances_, index = X_train.columns).sort_values(ascending = True)\n",
    "\n",
    "plt.figure(figsize = (10, 20))\n",
    "plt.title('Feature Importances', fontdict = font_dict_header)\n",
    "plt.box(False)\n",
    "plt.barh(importances.index, importances.values)\n",
    "plt.xlabel('Importance Score', fontdict = font_dict_axistitle)\n",
    "plt.ylabel('Features', fontdict = font_dict_axistitle)\n",
    "plt.show()"
   ]
  },
  {
   "attachments": {},
   "cell_type": "markdown",
   "metadata": {},
   "source": [
    "### Test Sampling Strategies"
   ]
  },
  {
   "cell_type": "code",
   "execution_count": 383,
   "metadata": {},
   "outputs": [],
   "source": [
    "def model_cross_validation(X, y, models, model_names, n_splits = 5):\n",
    "    skf = StratifiedKFold(n_splits = n_splits, random_state = random_seed, shuffle = True)\n",
    "    \n",
    "    # create dataframe to hold results\n",
    "    results_df = pd.DataFrame(columns = ['Model', 'Fold', 'Accuracy', 'ROC AUC', 'Log Loss'])\n",
    "    \n",
    "    for sampling_strategy in ['None', 'SMOTE', 'RandomOverSampler']:\n",
    "        print('----------------------------------')\n",
    "        for i, (train_index, test_index) in enumerate(skf.split(X, y)):\n",
    "            X_train, X_test = X.loc[train_index], X.loc[test_index]\n",
    "            y_train, y_test = y[train_index], y[test_index]\n",
    "        \n",
    "            if sampling_strategy == 'SMOTE':\n",
    "                X_train, y_train = SMOTE(random_state = random_seed).fit_resample(X_train, y_train)\n",
    "            elif sampling_strategy == 'RandomOverSampler':\n",
    "                X_train, y_train = RandomOverSampler(random_state = random_seed).fit_resample(X_train, y_train)\n",
    "            else:\n",
    "                pass\n",
    "            \n",
    "            model_predictions = {}\n",
    "            for model, model_name in zip(models, model_names):\n",
    "                if sampling_strategy == 'None':\n",
    "                    model_name = model_name\n",
    "                else:\n",
    "                    model_name = model_name + ' with ' + sampling_strategy\n",
    "                \n",
    "                print(model_name, 'Fold', i + 1)\n",
    "                if str.startswith(model_name, 'TabPFN'):\n",
    "                    model.fit(X_train[X_train_columns[:-16]], y_train)\n",
    "                    y_pred = model.predict(X_test[X_train_columns[:-16]])\n",
    "                    \n",
    "                    y_proba = model.predict_proba(X_test[X_train_columns[:-16]])\n",
    "                    y_proba_class_0 = y_proba[:,0].sum()\n",
    "                    y_proba_class_1 = y_proba[:,1].sum()\n",
    "                    new_probabilities = y_proba * np.array([[1/(y_proba_class_0 if i==0 else y_proba_class_1) for i in range(y_proba.shape[1])]])\n",
    "                    y_proba = new_probabilities / np.sum(new_probabilities, axis = 1, keepdims = 1)\n",
    "                    \n",
    "                    y_proba = y_proba[:, 1]\n",
    "                else:\n",
    "                    model.fit(X_train, y_train)\n",
    "                    y_pred = model.predict(X_test)\n",
    "                    \n",
    "                    y_proba = model.predict_proba(X_test)\n",
    "                    y_proba_class_0 = y_proba[:,0].sum()\n",
    "                    y_proba_class_1 = y_proba[:,1].sum()\n",
    "                    new_probabilities = y_proba * np.array([[1/(y_proba_class_0 if i==0 else y_proba_class_1) for i in range(y_proba.shape[1])]])\n",
    "                    y_proba = new_probabilities / np.sum(new_probabilities, axis = 1, keepdims = 1)\n",
    "                    \n",
    "                    y_proba = y_proba[:, 1]\n",
    "                \n",
    "                fold_accuracy = accuracy_score(y_test, y_pred)\n",
    "                fold_roc_auc = roc_auc_score(y_test, y_proba)\n",
    "                fold_log_loss = competition_log_loss(y_test, y_proba)\n",
    "                \n",
    "                new_result_index = len(results_df)\n",
    "                new_results_row = pd.DataFrame({\n",
    "                    'Model': model_name, \n",
    "                    'Fold': i + 1, \n",
    "                    'Accuracy': fold_accuracy, \n",
    "                    'ROC AUC': fold_roc_auc,\n",
    "                    'Log Loss': fold_log_loss\n",
    "                }, index = [new_result_index])\n",
    "                \n",
    "                results_df = pd.concat([results_df, new_results_row])\n",
    "                model_predictions[str(model_name) + '_proba'] = y_proba.tolist()\n",
    "                \n",
    "            # average predictions\n",
    "            if sampling_strategy == 'None':\n",
    "                model_name = 'Average'\n",
    "            else:\n",
    "                model_name = 'Average' + ' with ' + sampling_strategy\n",
    "            \n",
    "            \n",
    "            weighted_proba = []\n",
    "            for prediction in model_predictions:\n",
    "                if str.startswith(prediction, 'XGBoost'):\n",
    "                    weighted_proba.append(np.array(model_predictions[prediction]) * 0.7)\n",
    "                elif str.startswith(prediction, 'CatBoost'):\n",
    "                    weighted_proba.append(np.array(model_predictions[prediction]) * 0.3)\n",
    "                else:\n",
    "                    weighted_proba.append(np.array(model_predictions[prediction]) * 0)\n",
    "            \n",
    "            y_proba = np.sum(weighted_proba, axis = 0)\n",
    "            y_pred = np.where(y_proba > 0.5, 1, 0)\n",
    "            fold_accuracy = accuracy_score(y_test, y_pred)\n",
    "            fold_roc_auc = roc_auc_score(y_test, y_proba)\n",
    "            fold_log_loss = competition_log_loss(y_test, y_proba)\n",
    "            \n",
    "            new_result_index = len(results_df)\n",
    "            new_results_row = pd.DataFrame({\n",
    "                'Model': model_name, \n",
    "                'Fold': i + 1, \n",
    "                'Accuracy': fold_accuracy, \n",
    "                'ROC AUC': fold_roc_auc,\n",
    "                'Log Loss': fold_log_loss\n",
    "            }, index = [new_result_index])\n",
    "            \n",
    "            results_df = pd.concat([results_df, new_results_row])\n",
    "        \n",
    "    return results_df"
   ]
  },
  {
   "cell_type": "code",
   "execution_count": 384,
   "metadata": {},
   "outputs": [],
   "source": [
    "models = [xgb, catboost]\n",
    "model_names = ['XGBoost', 'CatBoost']"
   ]
  },
  {
   "cell_type": "code",
   "execution_count": 385,
   "metadata": {},
   "outputs": [
    {
     "name": "stdout",
     "output_type": "stream",
     "text": [
      "----------------------------------\n",
      "XGBoost Fold 1\n",
      "CatBoost Fold 1\n",
      "XGBoost Fold 2\n",
      "CatBoost Fold 2\n",
      "XGBoost Fold 3\n",
      "CatBoost Fold 3\n",
      "XGBoost Fold 4\n",
      "CatBoost Fold 4\n",
      "XGBoost Fold 5\n",
      "CatBoost Fold 5\n",
      "----------------------------------\n",
      "XGBoost with SMOTE Fold 1\n",
      "CatBoost with SMOTE Fold 1\n",
      "XGBoost with SMOTE Fold 2\n",
      "CatBoost with SMOTE Fold 2\n",
      "XGBoost with SMOTE Fold 3\n",
      "CatBoost with SMOTE Fold 3\n",
      "XGBoost with SMOTE Fold 4\n",
      "CatBoost with SMOTE Fold 4\n",
      "XGBoost with SMOTE Fold 5\n",
      "CatBoost with SMOTE Fold 5\n",
      "----------------------------------\n",
      "XGBoost with RandomOverSampler Fold 1\n",
      "CatBoost with RandomOverSampler Fold 1\n",
      "XGBoost with RandomOverSampler Fold 2\n",
      "CatBoost with RandomOverSampler Fold 2\n",
      "XGBoost with RandomOverSampler Fold 3\n",
      "CatBoost with RandomOverSampler Fold 3\n",
      "XGBoost with RandomOverSampler Fold 4\n",
      "CatBoost with RandomOverSampler Fold 4\n",
      "XGBoost with RandomOverSampler Fold 5\n",
      "CatBoost with RandomOverSampler Fold 5\n"
     ]
    }
   ],
   "source": [
    "cv_results = model_cross_validation(X_train, y_train_class, models, model_names)"
   ]
  },
  {
   "cell_type": "code",
   "execution_count": 386,
   "metadata": {},
   "outputs": [
    {
     "data": {
      "text/html": [
       "<div>\n",
       "<style scoped>\n",
       "    .dataframe tbody tr th:only-of-type {\n",
       "        vertical-align: middle;\n",
       "    }\n",
       "\n",
       "    .dataframe tbody tr th {\n",
       "        vertical-align: top;\n",
       "    }\n",
       "\n",
       "    .dataframe thead th {\n",
       "        text-align: right;\n",
       "    }\n",
       "</style>\n",
       "<table border=\"1\" class=\"dataframe\">\n",
       "  <thead>\n",
       "    <tr style=\"text-align: right;\">\n",
       "      <th></th>\n",
       "      <th>Accuracy</th>\n",
       "      <th>ROC AUC</th>\n",
       "      <th>Log Loss</th>\n",
       "      <th>Accuracy Z Score</th>\n",
       "      <th>ROC AUC Z Score</th>\n",
       "      <th>Log Loss Z Score</th>\n",
       "      <th>Average Z Score</th>\n",
       "    </tr>\n",
       "    <tr>\n",
       "      <th>Model</th>\n",
       "      <th></th>\n",
       "      <th></th>\n",
       "      <th></th>\n",
       "      <th></th>\n",
       "      <th></th>\n",
       "      <th></th>\n",
       "      <th></th>\n",
       "    </tr>\n",
       "  </thead>\n",
       "  <tbody>\n",
       "    <tr>\n",
       "      <th>Average with RandomOverSampler</th>\n",
       "      <td>0.947122</td>\n",
       "      <td>0.981107</td>\n",
       "      <td>0.188398</td>\n",
       "      <td>0.151015</td>\n",
       "      <td>0.923853</td>\n",
       "      <td>0.905053</td>\n",
       "      <td>0.914453</td>\n",
       "    </tr>\n",
       "    <tr>\n",
       "      <th>Average with SMOTE</th>\n",
       "      <td>0.938656</td>\n",
       "      <td>0.980300</td>\n",
       "      <td>0.190986</td>\n",
       "      <td>-1.183407</td>\n",
       "      <td>0.719922</td>\n",
       "      <td>0.721174</td>\n",
       "      <td>0.720548</td>\n",
       "    </tr>\n",
       "    <tr>\n",
       "      <th>XGBoost with SMOTE</th>\n",
       "      <td>0.947100</td>\n",
       "      <td>0.979879</td>\n",
       "      <td>0.191010</td>\n",
       "      <td>0.147485</td>\n",
       "      <td>0.613459</td>\n",
       "      <td>0.719472</td>\n",
       "      <td>0.666465</td>\n",
       "    </tr>\n",
       "    <tr>\n",
       "      <th>Average</th>\n",
       "      <td>0.942867</td>\n",
       "      <td>0.979820</td>\n",
       "      <td>0.193260</td>\n",
       "      <td>-0.519726</td>\n",
       "      <td>0.598464</td>\n",
       "      <td>0.559542</td>\n",
       "      <td>0.579003</td>\n",
       "    </tr>\n",
       "    <tr>\n",
       "      <th>XGBoost</th>\n",
       "      <td>0.953415</td>\n",
       "      <td>0.978396</td>\n",
       "      <td>0.195350</td>\n",
       "      <td>1.143006</td>\n",
       "      <td>0.238586</td>\n",
       "      <td>0.411013</td>\n",
       "      <td>0.324799</td>\n",
       "    </tr>\n",
       "    <tr>\n",
       "      <th>CatBoost with RandomOverSampler</th>\n",
       "      <td>0.955588</td>\n",
       "      <td>0.977697</td>\n",
       "      <td>0.197621</td>\n",
       "      <td>1.485437</td>\n",
       "      <td>0.061646</td>\n",
       "      <td>0.249626</td>\n",
       "      <td>0.155636</td>\n",
       "    </tr>\n",
       "    <tr>\n",
       "      <th>XGBoost with RandomOverSampler</th>\n",
       "      <td>0.951288</td>\n",
       "      <td>0.978147</td>\n",
       "      <td>0.204781</td>\n",
       "      <td>0.807635</td>\n",
       "      <td>0.175607</td>\n",
       "      <td>-0.259179</td>\n",
       "      <td>-0.041786</td>\n",
       "    </tr>\n",
       "    <tr>\n",
       "      <th>CatBoost</th>\n",
       "      <td>0.938656</td>\n",
       "      <td>0.969460</td>\n",
       "      <td>0.221873</td>\n",
       "      <td>-1.183407</td>\n",
       "      <td>-2.021148</td>\n",
       "      <td>-1.473765</td>\n",
       "      <td>-1.747456</td>\n",
       "    </tr>\n",
       "    <tr>\n",
       "      <th>CatBoost with SMOTE</th>\n",
       "      <td>0.940784</td>\n",
       "      <td>0.972271</td>\n",
       "      <td>0.226928</td>\n",
       "      <td>-0.848036</td>\n",
       "      <td>-1.310389</td>\n",
       "      <td>-1.832937</td>\n",
       "      <td>-1.571663</td>\n",
       "    </tr>\n",
       "  </tbody>\n",
       "</table>\n",
       "</div>"
      ],
      "text/plain": [
       "                                 Accuracy   ROC AUC  Log Loss  \\\n",
       "Model                                                           \n",
       "Average with RandomOverSampler   0.947122  0.981107  0.188398   \n",
       "Average with SMOTE               0.938656  0.980300  0.190986   \n",
       "XGBoost with SMOTE               0.947100  0.979879  0.191010   \n",
       "Average                          0.942867  0.979820  0.193260   \n",
       "XGBoost                          0.953415  0.978396  0.195350   \n",
       "CatBoost with RandomOverSampler  0.955588  0.977697  0.197621   \n",
       "XGBoost with RandomOverSampler   0.951288  0.978147  0.204781   \n",
       "CatBoost                         0.938656  0.969460  0.221873   \n",
       "CatBoost with SMOTE              0.940784  0.972271  0.226928   \n",
       "\n",
       "                                 Accuracy Z Score  ROC AUC Z Score  \\\n",
       "Model                                                                \n",
       "Average with RandomOverSampler           0.151015         0.923853   \n",
       "Average with SMOTE                      -1.183407         0.719922   \n",
       "XGBoost with SMOTE                       0.147485         0.613459   \n",
       "Average                                 -0.519726         0.598464   \n",
       "XGBoost                                  1.143006         0.238586   \n",
       "CatBoost with RandomOverSampler          1.485437         0.061646   \n",
       "XGBoost with RandomOverSampler           0.807635         0.175607   \n",
       "CatBoost                                -1.183407        -2.021148   \n",
       "CatBoost with SMOTE                     -0.848036        -1.310389   \n",
       "\n",
       "                                 Log Loss Z Score  Average Z Score  \n",
       "Model                                                               \n",
       "Average with RandomOverSampler           0.905053         0.914453  \n",
       "Average with SMOTE                       0.721174         0.720548  \n",
       "XGBoost with SMOTE                       0.719472         0.666465  \n",
       "Average                                  0.559542         0.579003  \n",
       "XGBoost                                  0.411013         0.324799  \n",
       "CatBoost with RandomOverSampler          0.249626         0.155636  \n",
       "XGBoost with RandomOverSampler          -0.259179        -0.041786  \n",
       "CatBoost                                -1.473765        -1.747456  \n",
       "CatBoost with SMOTE                     -1.832937        -1.571663  "
      ]
     },
     "execution_count": 386,
     "metadata": {},
     "output_type": "execute_result"
    }
   ],
   "source": [
    "# find best sampling strategy for submission\n",
    "results = cv_results.drop('Fold', axis = 1).groupby('Model').mean()\n",
    "results['Accuracy Z Score'] = (results['Accuracy'] - results['Accuracy'].mean()) / results['Accuracy'].std()\n",
    "results['ROC AUC Z Score'] = (results['ROC AUC'] - results['ROC AUC'].mean()) / results['ROC AUC'].std()\n",
    "results['Log Loss Z Score'] = ((results['Log Loss'] - results['Log Loss'].mean()) / results['Log Loss'].std()) * -1\n",
    "results['Average Z Score'] = results[['ROC AUC Z Score','Log Loss Z Score']].mean(axis = 1)\n",
    "results.sort_values('Log Loss Z Score', ascending = False)"
   ]
  },
  {
   "attachments": {},
   "cell_type": "markdown",
   "metadata": {},
   "source": [
    "### Submission"
   ]
  },
  {
   "cell_type": "code",
   "execution_count": 393,
   "metadata": {},
   "outputs": [],
   "source": [
    "def prediction_pipeline(X):\n",
    "    X['EJ'].replace({'A': 0, 'B': 1}, inplace = True)\n",
    "    X = X.select_dtypes(include = [np.number])\n",
    "    X['Days Since 1-1-2019'] = [X_train['Days Since 1-1-2019'].max() + 1] * len(X)\n",
    "    \n",
    "    X_columns = X.columns\n",
    "    X_index = X.index\n",
    "    \n",
    "    X = standard_scaler.transform(X)\n",
    "    X = knn_imputer.transform(X)\n",
    "    X = pd.DataFrame(X, columns = X_columns, index = X_index)\n",
    "\n",
    "    for model in alpha_models:\n",
    "        if model == 'KNN 7':\n",
    "            model_predictions = alpha_models[model].predict_proba(X[knn_features])\n",
    "        else:\n",
    "            model_predictions = alpha_models[model].predict_proba(X[model_features])\n",
    "            \n",
    "        predictions_df = pd.DataFrame(model_predictions, columns = alpha_models[model].classes_, index = X_index)        \n",
    "        predictions_df.columns = [model + '_' + str(col) for col in predictions_df.columns]\n",
    "        X = pd.concat([X, predictions_df], axis = 1)\n",
    "        \n",
    "    for pred_class in y_train_alpha:\n",
    "        X['Alpha_' + str(pred_class)] = X['Extra Trees_' + str(pred_class)] + X['TabPFN_' + str(pred_class)]\n",
    "    \n",
    "    model_train, model_y = RandomOverSampler(random_state = random_seed).fit_resample(X_train, y_train_class)\n",
    "    \n",
    "    models = {'XGBoost': {'model': xgb, 'weight': 0.7},\n",
    "              'CatBoost': {'model': catboost, 'weight': 0.3}}\n",
    "\n",
    "    weighted_proba = []\n",
    "    \n",
    "    for model_name, model_info in models.items():\n",
    "        model_info['model'].fit(model_train, model_y)\n",
    "        prediction = model_info['model'].predict_proba(X)\n",
    "        class_0 = prediction[:,0].sum()\n",
    "        class_1 = prediction[:,1].sum()\n",
    "        probabilities = prediction * np.array([[1/(class_0 if i==0 else class_1) for i in range(prediction.shape[1])]])\n",
    "        proba = probabilities / np.sum(probabilities, axis = 1, keepdims = 1)\n",
    "        proba = proba[:, 1]\n",
    "        \n",
    "        weighted_proba.append(proba * model_info['weight'])\n",
    "\n",
    "    X['class_1'] = np.sum(weighted_proba, axis = 0)\n",
    "    X['class_0'] = 1 - X['class_1']\n",
    "        \n",
    "    return X"
   ]
  },
  {
   "cell_type": "code",
   "execution_count": 394,
   "metadata": {},
   "outputs": [],
   "source": [
    "X_test = prediction_pipeline(test_df)"
   ]
  },
  {
   "cell_type": "code",
   "execution_count": 395,
   "metadata": {},
   "outputs": [],
   "source": [
    "predictions = X_test[['class_0', 'class_1']]\n",
    "submission = pd.concat([test_df[['Id']], predictions], axis = 1)\n",
    "submission.to_csv('submission.csv', index = False)"
   ]
  },
  {
   "cell_type": "code",
   "execution_count": 396,
   "metadata": {},
   "outputs": [
    {
     "data": {
      "text/html": [
       "<div>\n",
       "<style scoped>\n",
       "    .dataframe tbody tr th:only-of-type {\n",
       "        vertical-align: middle;\n",
       "    }\n",
       "\n",
       "    .dataframe tbody tr th {\n",
       "        vertical-align: top;\n",
       "    }\n",
       "\n",
       "    .dataframe thead th {\n",
       "        text-align: right;\n",
       "    }\n",
       "</style>\n",
       "<table border=\"1\" class=\"dataframe\">\n",
       "  <thead>\n",
       "    <tr style=\"text-align: right;\">\n",
       "      <th></th>\n",
       "      <th>Id</th>\n",
       "      <th>class_0</th>\n",
       "      <th>class_1</th>\n",
       "    </tr>\n",
       "  </thead>\n",
       "  <tbody>\n",
       "    <tr>\n",
       "      <th>0</th>\n",
       "      <td>00eed32682bb</td>\n",
       "      <td>0.5</td>\n",
       "      <td>0.5</td>\n",
       "    </tr>\n",
       "    <tr>\n",
       "      <th>1</th>\n",
       "      <td>010ebe33f668</td>\n",
       "      <td>0.5</td>\n",
       "      <td>0.5</td>\n",
       "    </tr>\n",
       "    <tr>\n",
       "      <th>2</th>\n",
       "      <td>02fa521e1838</td>\n",
       "      <td>0.5</td>\n",
       "      <td>0.5</td>\n",
       "    </tr>\n",
       "    <tr>\n",
       "      <th>3</th>\n",
       "      <td>040e15f562a2</td>\n",
       "      <td>0.5</td>\n",
       "      <td>0.5</td>\n",
       "    </tr>\n",
       "    <tr>\n",
       "      <th>4</th>\n",
       "      <td>046e85c7cc7f</td>\n",
       "      <td>0.5</td>\n",
       "      <td>0.5</td>\n",
       "    </tr>\n",
       "  </tbody>\n",
       "</table>\n",
       "</div>"
      ],
      "text/plain": [
       "             Id  class_0  class_1\n",
       "0  00eed32682bb      0.5      0.5\n",
       "1  010ebe33f668      0.5      0.5\n",
       "2  02fa521e1838      0.5      0.5\n",
       "3  040e15f562a2      0.5      0.5\n",
       "4  046e85c7cc7f      0.5      0.5"
      ]
     },
     "execution_count": 396,
     "metadata": {},
     "output_type": "execute_result"
    }
   ],
   "source": [
    "submission"
   ]
  }
 ],
 "metadata": {
  "kernelspec": {
   "display_name": "apple_tensorflow",
   "language": "python",
   "name": "python3"
  },
  "language_info": {
   "codemirror_mode": {
    "name": "ipython",
    "version": 3
   },
   "file_extension": ".py",
   "mimetype": "text/x-python",
   "name": "python",
   "nbconvert_exporter": "python",
   "pygments_lexer": "ipython3",
   "version": "3.9.16"
  },
  "orig_nbformat": 4
 },
 "nbformat": 4,
 "nbformat_minor": 2
}
